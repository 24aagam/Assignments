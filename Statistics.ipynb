{
  "nbformat": 4,
  "nbformat_minor": 0,
  "metadata": {
    "colab": {
      "provenance": []
    },
    "kernelspec": {
      "name": "python3",
      "display_name": "Python 3"
    },
    "language_info": {
      "name": "python"
    }
  },
  "cells": [
    {
      "cell_type": "markdown",
      "source": [
        "# 1. Generate a list of 100 integers containing values between 90 to 130 and store it in the variable `int_list`. After generating the list, find the following:"
      ],
      "metadata": {
        "id": "y9JaG6PIIQOc"
      }
    },
    {
      "cell_type": "code",
      "source": [
        "import numpy as np\n",
        "int_list = np.arange(90,130)"
      ],
      "metadata": {
        "id": "_wyEdRCSI7iU"
      },
      "execution_count": 49,
      "outputs": []
    },
    {
      "cell_type": "code",
      "source": [
        "int_list"
      ],
      "metadata": {
        "colab": {
          "base_uri": "https://localhost:8080/"
        },
        "id": "rakGsJPvJfxK",
        "outputId": "ab71a724-8ca2-4308-d8fe-8634d436ac1b"
      },
      "execution_count": 50,
      "outputs": [
        {
          "output_type": "execute_result",
          "data": {
            "text/plain": [
              "array([ 90,  91,  92,  93,  94,  95,  96,  97,  98,  99, 100, 101, 102,\n",
              "       103, 104, 105, 106, 107, 108, 109, 110, 111, 112, 113, 114, 115,\n",
              "       116, 117, 118, 119, 120, 121, 122, 123, 124, 125, 126, 127, 128,\n",
              "       129])"
            ]
          },
          "metadata": {},
          "execution_count": 50
        }
      ]
    },
    {
      "cell_type": "markdown",
      "source": [
        "# (i) Write a Python function to calculate the mean of a given list of numbers. Create a function to find the median of a list of numbers."
      ],
      "metadata": {
        "id": "XRjSSbTxJiHk"
      }
    },
    {
      "cell_type": "code",
      "source": [
        "def mean_median(num):\n",
        "    return \"mean\",np.mean(num),\"median\", np.median(num)"
      ],
      "metadata": {
        "id": "ZtMch2mJJqC_"
      },
      "execution_count": null,
      "outputs": []
    },
    {
      "cell_type": "code",
      "source": [
        "mean_median(int_list)"
      ],
      "metadata": {
        "colab": {
          "base_uri": "https://localhost:8080/"
        },
        "id": "Hqdp4iFQJ_aK",
        "outputId": "7de6c1a9-3ec0-4ee0-f6c8-12cd21251937"
      },
      "execution_count": null,
      "outputs": [
        {
          "output_type": "execute_result",
          "data": {
            "text/plain": [
              "('mean', 109.5, 'median', 109.5)"
            ]
          },
          "metadata": {},
          "execution_count": 6
        }
      ]
    },
    {
      "cell_type": "markdown",
      "source": [
        "# (ii) Develop a program to compute the mode of a list of integers."
      ],
      "metadata": {
        "id": "cSZTPP6ZKh5E"
      }
    },
    {
      "cell_type": "code",
      "source": [
        "import statistics as stats"
      ],
      "metadata": {
        "id": "_uvhh7SmKlBc"
      },
      "execution_count": null,
      "outputs": []
    },
    {
      "cell_type": "code",
      "source": [
        "stats.mode(int_list)"
      ],
      "metadata": {
        "colab": {
          "base_uri": "https://localhost:8080/"
        },
        "id": "cpV25ITYKsjb",
        "outputId": "3228fbee-8e83-49e2-bd7d-9b0f00ec3152"
      },
      "execution_count": null,
      "outputs": [
        {
          "output_type": "execute_result",
          "data": {
            "text/plain": [
              "90"
            ]
          },
          "metadata": {},
          "execution_count": 10
        }
      ]
    },
    {
      "cell_type": "markdown",
      "source": [
        "# (iii) Implement a function to calculate the weighted mean of a list of values and their corresponding weights."
      ],
      "metadata": {
        "id": "vy7XF80pK5m8"
      }
    },
    {
      "cell_type": "code",
      "source": [
        "def weighted_mean(values, weights):\n",
        "    \"\"\"\n",
        "    Calculates the weighted mean of a list of values and their corresponding weights.\n",
        "\n",
        "    Args:\n",
        "        values (list[float]): List of values.\n",
        "        weights (list[float]): List of corresponding weights.\n",
        "\n",
        "    Returns:\n",
        "        float: Weighted mean.\n",
        "    \"\"\"\n",
        "    if len(values) != len(weights):\n",
        "        raise ValueError(\"Values and weights must have the same length.\")\n",
        "\n",
        "    weighted_sum = sum(x * w for x, w in zip(values, weights))\n",
        "    total_weight = sum(weights)\n",
        "\n",
        "    if total_weight == 0:\n",
        "        raise ValueError(\"Total weight cannot be zero.\")\n",
        "\n",
        "    return weighted_sum / total_weight\n",
        "\n",
        "values_list = int_list\n",
        "weights_list = [0.2, 0.3, 0.4, 0.1, 0.2, 0.9, 0.3, 0.4, 0.6, 0.7, 0.4, 0.4, 0.2, 0.3, 0.5, 0.4, 0.7,0.2, 0.3, 0.4, 0.1, 0.2, 0.9, 0.3, 0.4, 0.6, 0.7, 0.4, 0.4, 0.2, 0.3, 0.5, 0.4, 0.7, 0.8, 0.5, 0.6, 0.3, 0.2, 0.1]\n",
        "\n",
        "weighted_result = weighted_mean(values_list, weights_list)\n",
        "print(f\"Weighted Mean: {weighted_result:.2f}\")\n"
      ],
      "metadata": {
        "id": "NBGDwDdkK7gr",
        "colab": {
          "base_uri": "https://localhost:8080/"
        },
        "outputId": "7af530fe-c2bb-4a52-adb1-f1d231aee2ef"
      },
      "execution_count": 56,
      "outputs": [
        {
          "output_type": "stream",
          "name": "stdout",
          "text": [
            "Weighted Mean: 110.03\n"
          ]
        }
      ]
    },
    {
      "cell_type": "markdown",
      "source": [
        "# (iv) Write a Python function to find the geometric mean of a list of positive numbers."
      ],
      "metadata": {
        "id": "WxQvzgjd7rPT"
      }
    },
    {
      "cell_type": "code",
      "source": [
        "from scipy.stats import gmean"
      ],
      "metadata": {
        "id": "DyMQrjA68A2E"
      },
      "execution_count": null,
      "outputs": []
    },
    {
      "cell_type": "code",
      "source": [
        "def geo_mean(numbers):\n",
        "    return gmean(numbers)"
      ],
      "metadata": {
        "id": "MG1VOQ4c8Lys"
      },
      "execution_count": null,
      "outputs": []
    },
    {
      "cell_type": "code",
      "source": [
        "geo_mean(int_list)"
      ],
      "metadata": {
        "colab": {
          "base_uri": "https://localhost:8080/"
        },
        "id": "VK9yZiS-8rNF",
        "outputId": "a7855b48-99a9-432b-f67a-6ecd32dd9f3e"
      },
      "execution_count": null,
      "outputs": [
        {
          "output_type": "execute_result",
          "data": {
            "text/plain": [
              "108.887095418084"
            ]
          },
          "metadata": {},
          "execution_count": 6
        }
      ]
    },
    {
      "cell_type": "markdown",
      "source": [
        "# (v) Create a program to calculate the harmonic mean of a list of values."
      ],
      "metadata": {
        "id": "xNsdpVu59Tri"
      }
    },
    {
      "cell_type": "code",
      "source": [
        "import statistics"
      ],
      "metadata": {
        "id": "NBCz-_6q9XLB"
      },
      "execution_count": null,
      "outputs": []
    },
    {
      "cell_type": "code",
      "source": [
        "statistics.harmonic_mean(int_list)"
      ],
      "metadata": {
        "colab": {
          "base_uri": "https://localhost:8080/"
        },
        "id": "VWf4HBLx-UWk",
        "outputId": "0f48383e-db11-4b27-8514-2fa240b6f023"
      },
      "execution_count": null,
      "outputs": [
        {
          "output_type": "execute_result",
          "data": {
            "text/plain": [
              "108.27211436545247"
            ]
          },
          "metadata": {},
          "execution_count": 10
        }
      ]
    },
    {
      "cell_type": "markdown",
      "source": [
        "# (vi) Build a function to determine the midrange of a list of numbers (average of the minimum and maximum)."
      ],
      "metadata": {
        "id": "JCQAwgNp-xVc"
      }
    },
    {
      "cell_type": "code",
      "source": [
        "def midrange(num):\n",
        "    minimum = min(num)\n",
        "    maximum = max(num)\n",
        "\n",
        "    return (minimum + maximum) / 2"
      ],
      "metadata": {
        "id": "2frfJmsf-0uL"
      },
      "execution_count": null,
      "outputs": []
    },
    {
      "cell_type": "code",
      "source": [
        "midrange(int_list)"
      ],
      "metadata": {
        "colab": {
          "base_uri": "https://localhost:8080/"
        },
        "id": "wg83jtACAFlv",
        "outputId": "a1509bee-69e8-4d88-f792-59d64c72b5da"
      },
      "execution_count": null,
      "outputs": [
        {
          "output_type": "execute_result",
          "data": {
            "text/plain": [
              "109.5"
            ]
          },
          "metadata": {},
          "execution_count": 12
        }
      ]
    },
    {
      "cell_type": "markdown",
      "source": [
        "# (vii) Implement a Python program to find the trimmed mean of a list, excluding a certain percentage of outliers."
      ],
      "metadata": {
        "id": "V6VZswpzAUCB"
      }
    },
    {
      "cell_type": "code",
      "source": [
        "import scipy.stats as stats"
      ],
      "metadata": {
        "id": "vpGU4ywWAXbs"
      },
      "execution_count": null,
      "outputs": []
    },
    {
      "cell_type": "code",
      "source": [
        "stats.trim_mean(int_list,0.1)"
      ],
      "metadata": {
        "colab": {
          "base_uri": "https://localhost:8080/"
        },
        "id": "X-JR0VmXBDqR",
        "outputId": "f9dfc05a-990d-4cc9-bb0a-706b0ce0f87c"
      },
      "execution_count": null,
      "outputs": [
        {
          "output_type": "execute_result",
          "data": {
            "text/plain": [
              "109.5"
            ]
          },
          "metadata": {},
          "execution_count": 21
        }
      ]
    },
    {
      "cell_type": "markdown",
      "source": [
        "# 2. Generate a list of 500 integers containing values between 200 to 300 and store it in the variable `int_list2`. After generating the list, find the following:"
      ],
      "metadata": {
        "id": "M0Z_gee5B7Df"
      }
    },
    {
      "cell_type": "code",
      "source": [
        "int_list2 = np.random.randint(200,300,500)"
      ],
      "metadata": {
        "id": "cbP3gvWCCDHC"
      },
      "execution_count": 27,
      "outputs": []
    },
    {
      "cell_type": "code",
      "source": [
        "int_list2"
      ],
      "metadata": {
        "colab": {
          "base_uri": "https://localhost:8080/"
        },
        "id": "XIZ1qIfWCPk6",
        "outputId": "72bb6091-79b9-46f8-e024-fe9e1b3f4106"
      },
      "execution_count": 28,
      "outputs": [
        {
          "output_type": "execute_result",
          "data": {
            "text/plain": [
              "array([235, 275, 255, 228, 234, 200, 200, 236, 253, 205, 238, 217, 279,\n",
              "       204, 242, 258, 231, 201, 265, 241, 257, 235, 211, 246, 282, 291,\n",
              "       200, 214, 299, 253, 212, 242, 284, 275, 268, 206, 268, 247, 203,\n",
              "       276, 252, 278, 215, 220, 299, 258, 223, 279, 213, 285, 248, 249,\n",
              "       269, 241, 235, 264, 295, 269, 294, 200, 250, 236, 234, 248, 293,\n",
              "       203, 298, 242, 277, 221, 273, 200, 210, 243, 258, 223, 259, 202,\n",
              "       298, 262, 235, 294, 267, 282, 246, 299, 220, 281, 250, 227, 214,\n",
              "       241, 258, 265, 236, 210, 286, 243, 211, 202, 251, 280, 232, 254,\n",
              "       200, 238, 219, 246, 242, 256, 260, 277, 230, 224, 202, 203, 294,\n",
              "       298, 213, 240, 272, 219, 295, 272, 226, 266, 252, 267, 261, 214,\n",
              "       296, 204, 267, 211, 286, 277, 275, 256, 216, 224, 229, 221, 225,\n",
              "       280, 260, 261, 283, 233, 232, 270, 285, 231, 213, 271, 256, 224,\n",
              "       279, 241, 218, 240, 254, 279, 211, 238, 293, 201, 295, 244, 288,\n",
              "       224, 267, 282, 203, 276, 235, 286, 261, 269, 287, 243, 232, 211,\n",
              "       284, 210, 254, 237, 228, 202, 227, 283, 289, 223, 253, 251, 246,\n",
              "       220, 253, 229, 267, 235, 239, 209, 273, 241, 223, 203, 246, 290,\n",
              "       250, 203, 231, 209, 210, 227, 245, 271, 239, 261, 285, 297, 244,\n",
              "       234, 234, 288, 233, 205, 236, 200, 275, 234, 269, 253, 280, 262,\n",
              "       208, 261, 201, 281, 235, 291, 240, 236, 248, 225, 267, 235, 230,\n",
              "       229, 233, 218, 217, 293, 284, 202, 269, 212, 244, 266, 291, 285,\n",
              "       239, 239, 275, 222, 230, 217, 270, 271, 218, 292, 243, 283, 249,\n",
              "       241, 293, 246, 221, 273, 289, 296, 291, 273, 228, 281, 258, 200,\n",
              "       286, 263, 216, 236, 294, 224, 263, 267, 251, 208, 256, 291, 293,\n",
              "       287, 232, 219, 272, 271, 287, 213, 258, 281, 255, 264, 275, 292,\n",
              "       236, 225, 232, 242, 214, 286, 228, 220, 282, 268, 222, 299, 283,\n",
              "       207, 272, 261, 213, 205, 200, 208, 279, 279, 253, 211, 204, 239,\n",
              "       292, 245, 226, 274, 252, 249, 291, 251, 299, 218, 234, 251, 230,\n",
              "       253, 258, 243, 255, 218, 245, 287, 265, 270, 253, 248, 294, 259,\n",
              "       280, 226, 235, 258, 249, 273, 244, 213, 270, 238, 239, 208, 213,\n",
              "       207, 280, 222, 279, 289, 208, 299, 206, 281, 271, 284, 289, 266,\n",
              "       260, 216, 256, 223, 224, 204, 249, 287, 230, 254, 225, 220, 297,\n",
              "       257, 223, 227, 229, 233, 253, 251, 286, 207, 209, 254, 200, 283,\n",
              "       236, 281, 220, 203, 242, 265, 220, 236, 268, 280, 247, 210, 294,\n",
              "       291, 243, 263, 231, 220, 270, 209, 260, 291, 235, 283, 276, 218,\n",
              "       274, 298, 297, 243, 203, 212, 258, 201, 200, 239, 224, 258, 236,\n",
              "       299, 269, 206, 203, 298, 240, 260, 233, 228, 268, 226, 296, 251,\n",
              "       273, 253, 269, 233, 207, 294, 272, 284, 207, 267, 285, 291, 267,\n",
              "       284, 271, 283, 295, 200, 205, 291, 230, 273, 283, 207, 221, 292,\n",
              "       208, 243, 246, 200, 251, 238])"
            ]
          },
          "metadata": {},
          "execution_count": 28
        }
      ]
    },
    {
      "cell_type": "markdown",
      "source": [
        "# (i) Compare the given list of visualization for the given data:\n",
        "## 1. Frequency & Gaussian distribution\n",
        "## 2. Frequency smoothened KDE plot\n",
        "## 3. Gaussian distribution & smoothened KDE plot"
      ],
      "metadata": {
        "id": "sU9ojGVpCTWk"
      }
    },
    {
      "cell_type": "code",
      "source": [
        "import seaborn as sns\n",
        "import matplotlib.pyplot as plt"
      ],
      "metadata": {
        "id": "bPdZys6HCi54"
      },
      "execution_count": 29,
      "outputs": []
    },
    {
      "cell_type": "code",
      "source": [
        "sns.displot(int_list2, kde = True)"
      ],
      "metadata": {
        "colab": {
          "base_uri": "https://localhost:8080/",
          "height": 523
        },
        "id": "SRrHNxdoE_mC",
        "outputId": "ef5e74e3-b395-48e1-d408-9f4dc4f42356"
      },
      "execution_count": 30,
      "outputs": [
        {
          "output_type": "execute_result",
          "data": {
            "text/plain": [
              "<seaborn.axisgrid.FacetGrid at 0x7d1af319bc10>"
            ]
          },
          "metadata": {},
          "execution_count": 30
        },
        {
          "output_type": "display_data",
          "data": {
            "text/plain": [
              "<Figure size 500x500 with 1 Axes>"
            ],
            "image/png": "[encoded data removed]"
          },
          "metadata": {}
        }
      ]
    },
    {
      "cell_type": "code",
      "source": [
        "sns.kdeplot(int_list2,  )"
      ],
      "metadata": {
        "colab": {
          "base_uri": "https://localhost:8080/",
          "height": 447
        },
        "id": "fP6nYCtkF0B_",
        "outputId": "19166ada-61c8-40cd-cdc1-70f4e65bbf76"
      },
      "execution_count": 31,
      "outputs": [
        {
          "output_type": "execute_result",
          "data": {
            "text/plain": [
              "<Axes: ylabel='Density'>"
            ]
          },
          "metadata": {},
          "execution_count": 31
        },
        {
          "output_type": "display_data",
          "data": {
            "text/plain": [
              "<Figure size 640x480 with 1 Axes>"
            ],
            "image/png": "[encoded data removed]"
          },
          "metadata": {}
        }
      ]
    },
    {
      "cell_type": "markdown",
      "source": [
        "# (ii) Write a Python function to calculate the range of a given list of numbers."
      ],
      "metadata": {
        "id": "_g9EaJTkGdTL"
      }
    },
    {
      "cell_type": "code",
      "source": [
        "def calculate_range(num):\n",
        "    return max(num) - min(num)"
      ],
      "metadata": {
        "id": "y37jWOu8Gebq"
      },
      "execution_count": 32,
      "outputs": []
    },
    {
      "cell_type": "code",
      "source": [
        "calculate_range(int_list2)"
      ],
      "metadata": {
        "colab": {
          "base_uri": "https://localhost:8080/"
        },
        "id": "UJztDEIPGgKd",
        "outputId": "147f1693-5f0a-466f-b299-12000e97b9d7"
      },
      "execution_count": 33,
      "outputs": [
        {
          "output_type": "execute_result",
          "data": {
            "text/plain": [
              "99"
            ]
          },
          "metadata": {},
          "execution_count": 33
        }
      ]
    },
    {
      "cell_type": "markdown",
      "source": [
        "# (iii) Create a program to find the variance and standard deviation of a list of numbers."
      ],
      "metadata": {
        "id": "w6xkacWuHMIh"
      }
    },
    {
      "cell_type": "code",
      "source": [
        "print(f\"Variance: {np.var(int_list2)}, Standard deviation: {np.std(int_list2)}\" )"
      ],
      "metadata": {
        "colab": {
          "base_uri": "https://localhost:8080/"
        },
        "id": "ISUSBZolHOX7",
        "outputId": "d648c1bc-f21f-4763-a460-4c30e94ad506"
      },
      "execution_count": 34,
      "outputs": [
        {
          "output_type": "stream",
          "name": "stdout",
          "text": [
            "Variance: 846.8835, Standard deviation: 29.101262859195646\n"
          ]
        }
      ]
    },
    {
      "cell_type": "markdown",
      "source": [
        "# (iv) Implement a function to compute the interquartile range (IQR) of a list of values."
      ],
      "metadata": {
        "id": "GGGnz5l1JDY_"
      }
    },
    {
      "cell_type": "code",
      "source": [
        "def interquartile_range(num):\n",
        "    Q3 = np.percentile(num, 75)\n",
        "    Q1 = np.percentile(num, 25)\n",
        "    return Q3 - Q1"
      ],
      "metadata": {
        "id": "CvAVuM5oJG2s"
      },
      "execution_count": 35,
      "outputs": []
    },
    {
      "cell_type": "code",
      "source": [
        "interquartile_range(int_list2)"
      ],
      "metadata": {
        "colab": {
          "base_uri": "https://localhost:8080/"
        },
        "id": "7vkAc4beJxLQ",
        "outputId": "bd3257a3-f1c7-4edd-b89c-843106fd2682"
      },
      "execution_count": 36,
      "outputs": [
        {
          "output_type": "execute_result",
          "data": {
            "text/plain": [
              "49.0"
            ]
          },
          "metadata": {},
          "execution_count": 36
        }
      ]
    },
    {
      "cell_type": "markdown",
      "source": [
        "# (v) Build a program to calculate the coefficient of variation for a dataset."
      ],
      "metadata": {
        "id": "OdIK1UiDKGyY"
      }
    },
    {
      "cell_type": "code",
      "source": [
        "cv = lambda x : np.std(x) / np.mean(x) * 100"
      ],
      "metadata": {
        "id": "6VNV8SASKLZv"
      },
      "execution_count": 37,
      "outputs": []
    },
    {
      "cell_type": "code",
      "source": [
        "cv(int_list2)"
      ],
      "metadata": {
        "colab": {
          "base_uri": "https://localhost:8080/"
        },
        "id": "LwBnLwGOOaVm",
        "outputId": "a8175a29-8e78-4c61-9c54-decb22747ed2"
      },
      "execution_count": 38,
      "outputs": [
        {
          "output_type": "execute_result",
          "data": {
            "text/plain": [
              "11.703705151496338"
            ]
          },
          "metadata": {},
          "execution_count": 38
        }
      ]
    },
    {
      "cell_type": "markdown",
      "source": [
        "# (vi) Write a Python function to find the mean absolute deviation (MAD) of a list of numbers."
      ],
      "metadata": {
        "id": "I90V76P7O5cL"
      }
    },
    {
      "cell_type": "code",
      "source": [
        "def calculate_mad(list_of_nums):\n",
        "    xbar = sum(list_of_nums) / len(list_of_nums)\n",
        "    deviation_sum = sum(abs(num - xbar) for num in list_of_nums)\n",
        "    mad = deviation_sum / len(list_of_nums)\n",
        "    return mad"
      ],
      "metadata": {
        "id": "CJPrXxZzO6rf"
      },
      "execution_count": 39,
      "outputs": []
    },
    {
      "cell_type": "code",
      "source": [
        "# Alternative to find MAD\n",
        "# using Numpy\n",
        "\n",
        "def mad(nums):\n",
        "    return np.mean(np.abs(nums - np.mean(nums)))"
      ],
      "metadata": {
        "id": "jKe7UjU0aSJJ"
      },
      "execution_count": 40,
      "outputs": []
    },
    {
      "cell_type": "code",
      "source": [
        "mad(int_list2)"
      ],
      "metadata": {
        "colab": {
          "base_uri": "https://localhost:8080/"
        },
        "id": "eOFiABlJazfa",
        "outputId": "586e7b7e-241a-4c98-ede4-c5674c0d746a"
      },
      "execution_count": 41,
      "outputs": [
        {
          "output_type": "execute_result",
          "data": {
            "text/plain": [
              "25.119199999999996"
            ]
          },
          "metadata": {},
          "execution_count": 41
        }
      ]
    },
    {
      "cell_type": "code",
      "source": [
        "calculate_mad(int_list2)"
      ],
      "metadata": {
        "colab": {
          "base_uri": "https://localhost:8080/"
        },
        "id": "p9woW0H2Zdss",
        "outputId": "34e3c001-36bd-4822-ba1c-4f4fb7d11128"
      },
      "execution_count": 42,
      "outputs": [
        {
          "output_type": "execute_result",
          "data": {
            "text/plain": [
              "25.119200000000003"
            ]
          },
          "metadata": {},
          "execution_count": 42
        }
      ]
    },
    {
      "cell_type": "markdown",
      "source": [
        "# (vii) Create a program to calculate the quartile deviation of a list of values."
      ],
      "metadata": {
        "id": "bQhiKxaofDkv"
      }
    },
    {
      "cell_type": "code",
      "source": [
        "Q3 = np.percentile(int_list2, 75)\n",
        "Q1 = np.percentile(int_list2, 25)\n",
        "\n",
        "print('Quartile Deviation:', Q3 - Q1)"
      ],
      "metadata": {
        "id": "mzXAQL1UfH1z",
        "colab": {
          "base_uri": "https://localhost:8080/"
        },
        "outputId": "15bf0548-5286-4988-d502-3bb760bddb53"
      },
      "execution_count": 44,
      "outputs": [
        {
          "output_type": "stream",
          "name": "stdout",
          "text": [
            "Quartile Deviation: 49.0\n"
          ]
        }
      ]
    },
    {
      "cell_type": "markdown",
      "source": [
        "# (viii) Implement a function to find the range-based coefficient of dispersion for a dataset."
      ],
      "metadata": {
        "id": "rPlQ_OsFf4o3"
      }
    },
    {
      "cell_type": "code",
      "source": [
        "def range_coefficient(data):\n",
        "    range = max(data) - min(data)\n",
        "    coefficient = range / (max(data)+min(data))\n",
        "    return (\"Range-Based coefficient:\", coefficient)\n",
        "\n",
        "range_coefficient(int_list2)"
      ],
      "metadata": {
        "colab": {
          "base_uri": "https://localhost:8080/"
        },
        "id": "aBAkO4iTdZQt",
        "outputId": "817f5e3f-0a57-4a77-c607-2722fd152f1e"
      },
      "execution_count": 48,
      "outputs": [
        {
          "output_type": "execute_result",
          "data": {
            "text/plain": [
              "('Range-Based coefficient:', 0.19839679358717435)"
            ]
          },
          "metadata": {},
          "execution_count": 48
        }
      ]
    },
    {
      "cell_type": "markdown",
      "source": [
        "# 3. Write a Python class representing a discrete random variable with methods to calculate its expected value and variance."
      ],
      "metadata": {
        "id": "xDeOWIIpf7X6"
      }
    },
    {
      "cell_type": "code",
      "source": [
        "class DiscreteRandomVariable:\n",
        "    def __init__(self, outcomes, probabilities):\n",
        "        \"\"\"\n",
        "        Initialize the discrete random variable.\n",
        "\n",
        "        :param outcomes: List of possible outcomes.\n",
        "        :param probabilities: List of corresponding probabilities.\n",
        "        \"\"\"\n",
        "        self.outcomes = outcomes\n",
        "        self.probabilities = probabilities\n",
        "\n",
        "    def expected_value(self):\n",
        "        \"\"\"\n",
        "        Calculate the expected value (mean) of the random variable.\n",
        "\n",
        "        :return: Expected value.\n",
        "        \"\"\"\n",
        "        expected_value = sum(outcome * prob for outcome, prob in zip(self.outcomes, self.probabilities))\n",
        "        return expected_value\n",
        "\n",
        "    def variance(self):\n",
        "        \"\"\"\n",
        "        Calculate the variance of the random variable.\n",
        "\n",
        "        :return: Variance.\n",
        "        \"\"\"\n",
        "        mean = self.expected_value()\n",
        "        variance = sum((outcome - mean) ** 2 * prob for outcome, prob in zip(self.outcomes, self.probabilities))\n",
        "        return variance\n",
        "\n",
        "outcomes = [1, 2, 3, 4]  # Possible outcomes\n",
        "probabilities = [0.2, 0.3, 0.4, 0.1]  # Corresponding probabilities\n",
        "rv = DiscreteRandomVariable(outcomes, probabilities)\n",
        "\n",
        "print(f\"Expected Value: {rv.expected_value():.2f}\")\n",
        "print(f\"Variance: {rv.variance():.2f}\")"
      ],
      "metadata": {
        "colab": {
          "base_uri": "https://localhost:8080/"
        },
        "id": "L_SfUS130xTm",
        "outputId": "b409216a-38a0-4804-e4e7-b5db000c4c77"
      },
      "execution_count": null,
      "outputs": [
        {
          "output_type": "stream",
          "name": "stdout",
          "text": [
            "Expected Value: 2.40\n",
            "Variance: 0.84\n"
          ]
        }
      ]
    },
    {
      "cell_type": "markdown",
      "source": [
        "#4. Implement a program to simulate the rolling of a fair six-sided die and calculate the expected value and variance of the outcomes.\n"
      ],
      "metadata": {
        "id": "9oEfdd_NpmHt"
      }
    },
    {
      "cell_type": "code",
      "source": [
        "import numpy as np\n",
        "\n",
        "def roll_die():\n",
        "    \"\"\"Simulate rolling a fair six-sided die.\"\"\"\n",
        "    return np.random.randint(1, 6)\n",
        "\n",
        "def simulate_rolls(num_rolls):\n",
        "    \"\"\"Simulate rolling the die multiple times and calculate statistics.\"\"\"\n",
        "    rolls = [roll_die() for _ in range(num_rolls)]\n",
        "    mean = np.mean(rolls)\n",
        "    variance = sum((x - mean) ** 2 for x in rolls) / num_rolls\n",
        "    return mean, variance\n",
        "\n",
        "if __name__ == \"__main__\":\n",
        "    num_rolls = 100000\n",
        "    mean_value, variance_value = simulate_rolls(num_rolls)\n",
        "\n",
        "    print(f\"Number of rolls: {num_rolls}\")\n",
        "    print(f\"Expected value (mean): {mean_value:.2f}\")\n",
        "    print(f\"Variance: {variance_value:.2f}\")"
      ],
      "metadata": {
        "colab": {
          "base_uri": "https://localhost:8080/"
        },
        "id": "Tg6cGlvtp6Gc",
        "outputId": "f38976f1-444c-4651-8fbf-48b16a3b1801"
      },
      "execution_count": null,
      "outputs": [
        {
          "output_type": "stream",
          "name": "stdout",
          "text": [
            "Number of rolls: 100000\n",
            "Expected value (mean): 3.01\n",
            "Variance: 2.00\n"
          ]
        }
      ]
    },
    {
      "cell_type": "markdown",
      "source": [
        "# 5. Create a Python function to generate random samples from a given probability distribution (e.g., binomial, Poisson) and calculate their mean and variance."
      ],
      "metadata": {
        "id": "01Gm1tTcrMoi"
      }
    },
    {
      "cell_type": "code",
      "source": [
        "import numpy as np"
      ],
      "metadata": {
        "id": "eU2xEMoQ5Ug9"
      },
      "execution_count": null,
      "outputs": []
    },
    {
      "cell_type": "code",
      "source": [
        "def random_sample(*num):\n",
        "    sample = np.random.choice(*num)\n",
        "    return sample\n",
        "\n",
        "distribution = np.random.binomial(n=10, p=0.5, size=10000)\n",
        "s = random_sample(distribution, 1000)\n",
        "\n",
        "print(\"Mean:\", np.mean(s))\n",
        "print(\"Variance\", np.var(s))"
      ],
      "metadata": {
        "colab": {
          "base_uri": "https://localhost:8080/"
        },
        "id": "RM8TomL44rJA",
        "outputId": "834001d1-48ec-45c5-8c2b-eafb5a5aac20"
      },
      "execution_count": null,
      "outputs": [
        {
          "output_type": "stream",
          "name": "stdout",
          "text": [
            "Mean: 4.891\n",
            "Variance 2.455119\n"
          ]
        }
      ]
    },
    {
      "cell_type": "markdown",
      "source": [
        "# 6. Write a Python script to generate random numbers from a Gaussian (normal) distribution and compute the mean, variance, and standard deviation of the samples."
      ],
      "metadata": {
        "id": "e2k6uG_d8PNh"
      }
    },
    {
      "cell_type": "code",
      "source": [
        "gaussian = np.random.normal(size = 10000)\n",
        "gaussian"
      ],
      "metadata": {
        "colab": {
          "base_uri": "https://localhost:8080/"
        },
        "id": "VGUivs-i8mth",
        "outputId": "79764292-ebca-45c1-b2b1-2dd05c3ab955"
      },
      "execution_count": null,
      "outputs": [
        {
          "output_type": "execute_result",
          "data": {
            "text/plain": [
              "array([ 0.40801012, -0.44626267, -0.19765836, ..., -0.08859068,\n",
              "       -1.0378556 , -1.88148415])"
            ]
          },
          "metadata": {},
          "execution_count": 22
        }
      ]
    },
    {
      "cell_type": "code",
      "source": [
        "sample = np.random.choice(gaussian,1000)"
      ],
      "metadata": {
        "id": "8jLjrijc9bxP"
      },
      "execution_count": null,
      "outputs": []
    },
    {
      "cell_type": "code",
      "source": [
        "sample"
      ],
      "metadata": {
        "colab": {
          "base_uri": "https://localhost:8080/"
        },
        "id": "STfDG2otA7KF",
        "outputId": "ff46e113-5861-45a0-eaba-7ffdbd3430c7"
      },
      "execution_count": null,
      "outputs": [
        {
          "output_type": "execute_result",
          "data": {
            "text/plain": [
              "array([ 0.07336392,  0.26363221,  0.32877991,  0.71645119,  0.37453119,\n",
              "       -2.04938877, -0.12146723, -0.47082797,  0.34801971,  0.54345064,\n",
              "        0.28236686,  1.15545139, -0.70624699, -1.26352476,  0.73384865,\n",
              "       -0.21616751,  0.23640967, -1.12033444,  0.43874529,  1.00364446,\n",
              "       -1.97805691, -0.81665715,  0.65373374,  0.17779368,  1.77924626,\n",
              "       -0.51491425,  0.41264965,  0.63525669,  1.35708873, -0.33266856,\n",
              "        0.50962614,  1.09629541,  2.49874606, -1.03647165,  0.24255139,\n",
              "       -0.57045847,  0.69883222,  0.61079769, -0.11931507, -0.05491193,\n",
              "       -0.16158878,  0.17445353, -0.2908901 ,  0.0467414 , -1.29812781,\n",
              "        1.02512222,  0.5244147 , -0.06455012, -0.39124713,  1.80933049,\n",
              "       -0.49052769, -0.86417658, -0.47362904,  0.33120183, -0.71591974,\n",
              "       -0.29849359,  0.87384815, -0.09979058,  0.15895288,  0.25019921,\n",
              "       -0.0138881 , -2.36358452, -0.06028054,  2.25090227,  0.73338679,\n",
              "        0.48347363,  1.50695069,  0.45904031,  0.01330956,  0.3131307 ,\n",
              "       -0.90155265,  0.9287739 , -1.08605158, -0.09813961,  0.14097124,\n",
              "       -1.7433735 ,  1.61553934, -0.08538477,  0.37453119, -1.49185814,\n",
              "       -0.40147228, -1.90306517,  0.46866255, -0.61506144,  0.29045062,\n",
              "        0.06242229,  0.99430088, -0.09992995,  1.06959274,  0.41173574,\n",
              "       -0.26912779,  1.46630116, -1.08662028, -0.59299812, -0.14019174,\n",
              "        0.59708518,  0.77829436,  0.50291673, -1.12830445, -0.35241608,\n",
              "       -0.26715348,  0.99164079,  1.62957113, -0.89628861, -2.39323902,\n",
              "        1.38178702, -1.76282984, -0.76813324,  1.01852999, -0.43591629,\n",
              "       -0.23502344,  1.43246171,  0.5580955 ,  0.12993038, -1.00704879,\n",
              "       -0.16197574, -0.83155471, -0.88005521,  0.04781004,  0.16198312,\n",
              "       -0.50780876, -0.25790141,  0.78102336, -0.8780392 ,  0.7604486 ,\n",
              "        1.08093177, -0.51885461, -1.27307006,  0.79376662,  0.78486783,\n",
              "        0.54468675,  1.65560571,  0.40119837,  0.64665229, -0.03779247,\n",
              "        0.60261778,  1.42228506,  0.32518702,  0.06189442, -0.21068952,\n",
              "        0.83806508,  1.16379867,  0.06643164, -0.35917575,  1.44857161,\n",
              "       -0.10192332,  0.19532065,  0.77917781, -1.15023634, -0.09122716,\n",
              "       -0.85656844, -2.73928601,  0.12198978, -0.13733801,  0.43732578,\n",
              "        2.30598021, -1.18105818, -1.38324506, -0.07345003, -0.51051748,\n",
              "       -1.18671566, -0.37934352, -1.43129301,  0.10077046, -1.03101807,\n",
              "        1.48690236, -0.79028809, -0.68166502,  0.44782312,  0.85726066,\n",
              "        0.15218408, -1.0510279 , -0.57045847,  0.36665305, -0.80529542,\n",
              "        0.81343252, -1.84645368,  1.67256422, -0.54369708,  0.47529179,\n",
              "       -2.29775273, -0.34052079,  0.80036422, -0.30379908,  1.34567335,\n",
              "       -1.39506336, -0.35710522, -0.66189553,  0.43732578,  0.36092662,\n",
              "       -1.90902139, -0.05851947, -0.08678288, -1.686337  , -0.41535555,\n",
              "        1.55301263, -0.60006299,  0.28524579, -1.30249686, -0.6049004 ,\n",
              "        0.2039021 , -0.7447977 , -1.11534152, -1.33216221, -1.48812194,\n",
              "        0.19678865, -1.18392838, -0.56705797, -0.51306568, -1.70964837,\n",
              "        0.47915638,  0.58429276, -0.49916972,  1.2244583 ,  0.12403528,\n",
              "        1.80539441, -0.33244363, -0.54535156,  0.57928891, -1.40866339,\n",
              "       -1.35944467,  0.05331667,  0.45531775, -0.00747467, -0.79795811,\n",
              "        0.74313682,  0.07837596,  0.38193153, -0.20282647,  1.22733611,\n",
              "       -0.29347776, -1.1588029 , -0.34206255, -0.80460754,  0.17909847,\n",
              "        0.01920296,  0.24237095, -0.72417045,  0.20521702, -0.24930366,\n",
              "       -0.16806605, -0.50207698, -0.82084522,  0.29861559, -0.07538153,\n",
              "       -0.24621024,  1.35135261,  1.72368313, -0.37543864, -0.2950828 ,\n",
              "       -0.22636278,  0.04676424,  2.18254532,  0.48233953, -0.42330599,\n",
              "       -0.66775368,  0.73133061, -0.00754809, -0.49135111,  0.14608178,\n",
              "        1.1090126 ,  0.4517313 ,  2.79480192,  0.45829892,  0.95532548,\n",
              "       -1.64787296,  1.62985013,  0.48240946,  0.00373457, -1.1588029 ,\n",
              "       -1.55518207,  0.5565213 , -0.96322472, -0.4698574 ,  0.06073629,\n",
              "        1.94263022, -0.94168321, -0.66133565,  0.44094842, -1.8064467 ,\n",
              "       -0.59948533,  0.29925925,  1.42244633, -0.15919137, -0.2999776 ,\n",
              "       -1.0111841 , -1.57146744, -0.22527079, -0.0722643 ,  0.40263181,\n",
              "       -0.20282647,  2.62666843, -0.136911  , -0.43694594, -0.89723154,\n",
              "       -0.3919269 ,  0.18656413,  0.08173967, -0.24720643, -0.39911379,\n",
              "       -0.70818116,  0.08201099, -1.10438463,  0.63440745, -0.4115226 ,\n",
              "        0.49004411, -1.08935201, -0.96929875, -1.21904954,  1.88246119,\n",
              "        1.2979919 ,  1.50820321, -0.38043454, -0.28356331,  2.48957617,\n",
              "       -1.75039601,  0.55647915, -0.26855429,  1.27110812, -1.80817327,\n",
              "        0.74313955, -2.13131585,  0.71645119, -0.35219942,  0.74979386,\n",
              "       -0.53445113,  0.05891749,  1.23463734,  0.30620414, -0.79370665,\n",
              "       -0.25392157, -0.01385951, -0.02360918,  0.12069101, -0.63988115,\n",
              "       -1.0952014 ,  0.99702279,  0.56744441,  0.58803729, -0.37852212,\n",
              "        0.18188836, -0.72619648,  1.09344202, -0.82810559, -0.76813324,\n",
              "       -0.17368919,  0.47894061, -3.02367101,  0.77513895,  0.49069863,\n",
              "        1.17711995,  0.43935245, -0.19474945,  1.1677049 ,  0.15969352,\n",
              "        1.06673295,  0.31799262,  0.33974553,  0.63856493,  0.23388887,\n",
              "        0.68370356, -0.23033482,  1.3286751 ,  0.62637821,  0.91267967,\n",
              "       -1.15255042, -0.36015938, -0.50207698, -1.32179917, -0.20558205,\n",
              "        1.62935311,  0.27506944, -1.60739308, -0.59251807,  0.35070184,\n",
              "        1.67815686, -0.05806263, -0.62051583,  0.23252517, -0.83139281,\n",
              "        0.47894061,  0.22343352,  0.49449359,  0.49865921, -0.37635125,\n",
              "       -0.00666736,  1.49179854,  0.59106739, -0.83048103, -0.16170459,\n",
              "        1.82169321, -0.01942539,  1.80619316,  0.20113901, -1.42962517,\n",
              "       -0.07507826,  0.72635721, -1.7433735 , -1.99252549, -1.3207889 ,\n",
              "       -0.12612802,  0.09484247,  0.81745958, -0.71789499, -1.99848922,\n",
              "        0.32105677,  0.51813575,  1.82169321,  1.40273308, -2.0022655 ,\n",
              "        0.32657287,  0.03239795,  0.43641771,  0.91626207, -0.29042835,\n",
              "       -0.34162116,  1.01721675, -0.0980823 ,  0.36822784,  1.00722517,\n",
              "       -0.08393453,  1.9967285 ,  0.40183975,  0.60271867,  0.06321483,\n",
              "        0.60239894, -1.595753  , -1.85716779, -0.53374015,  0.77131232,\n",
              "       -2.26583682,  1.31587006, -1.01838914, -0.4194387 ,  0.66594009,\n",
              "        0.81863475,  1.22465174, -1.32632638, -1.16892876, -1.07233501,\n",
              "       -1.04804998, -0.9579483 ,  1.34861067,  1.70907934, -0.06309651,\n",
              "       -0.67019772, -0.86558967, -0.84544216, -2.13337876, -1.91860556,\n",
              "       -0.6183753 , -0.04440434,  0.86503981,  1.61578534, -1.41960045,\n",
              "       -1.93744757, -2.1783092 ,  1.83909624,  1.73771321,  0.2393786 ,\n",
              "        0.38895521,  1.83909624, -0.52169787, -0.560808  , -1.0039347 ,\n",
              "        0.75019826, -0.16038547,  1.65039284, -0.17873365,  1.31972808,\n",
              "        0.89632852, -0.0359784 , -1.51291283, -1.04015007, -0.6501233 ,\n",
              "        0.76454638,  1.70672402, -0.90645147, -0.51458292,  0.75605179,\n",
              "       -0.41164014,  1.06864198, -0.44489495, -1.06361334, -0.63539629,\n",
              "        1.49595296, -0.12227605,  0.99905621,  0.60488889,  0.84110441,\n",
              "        1.2737136 , -0.96367112,  1.13719776,  0.55407271,  0.5565213 ,\n",
              "       -0.49515338, -0.21609141,  1.83157073,  0.11395574,  0.82991993,\n",
              "       -0.09450207,  0.33533556, -0.07507826, -0.43591629, -0.19555938,\n",
              "       -0.31072443, -0.61424579,  0.20404346, -0.41987927, -0.57787648,\n",
              "       -0.37949891, -1.11308451,  0.42416966, -0.53154745, -1.24580363,\n",
              "       -0.1307032 ,  0.35580259, -0.51050233, -0.68295404, -0.04289291,\n",
              "       -0.45249413, -1.24130482, -0.49228644, -1.58572376,  1.83909624,\n",
              "       -1.0441996 ,  0.36853008, -0.09699129, -1.83767544,  0.58225259,\n",
              "        0.04997448,  0.11105522, -0.40184001,  0.77960327, -0.28312744,\n",
              "       -0.68610083,  0.63849942,  0.44713411, -0.54699428,  0.39111367,\n",
              "        0.20452299, -0.20346171, -0.25968786, -2.41038109,  0.48614361,\n",
              "       -0.09468187,  0.09000365, -0.44331476,  0.23640967, -0.54535156,\n",
              "       -1.06395671, -1.22661353, -0.37666076, -2.32766086,  0.09892728,\n",
              "       -1.27654429, -1.25595149,  0.59255601,  0.34039748, -0.33054441,\n",
              "        1.38487109, -0.98000527,  0.63579123,  1.2244583 , -0.15751851,\n",
              "        0.44069101,  1.44833331, -0.03914063, -0.97299492, -0.0120549 ,\n",
              "        0.56270858, -1.28458837, -0.44360266,  0.00706708, -1.01633496,\n",
              "        1.2826474 ,  0.00706708,  0.56115642,  1.17029421, -0.19765836,\n",
              "       -0.28738157,  0.75168795, -0.08678288,  0.228924  ,  1.26415158,\n",
              "        0.10016639,  0.31799262, -1.3682432 ,  0.75162225, -0.29325007,\n",
              "        0.28195455,  1.072945  ,  0.34559903, -0.54297843,  0.11098417,\n",
              "        2.19802832, -1.19032147, -1.00886529, -1.20145529,  0.75405751,\n",
              "        0.45655283, -0.10048082,  1.90125345,  1.98640701,  0.3607454 ,\n",
              "       -0.2373277 , -0.94801002, -0.49005468, -0.25045436, -0.91623948,\n",
              "       -0.30740571,  0.50485107, -0.09763845, -0.46146069,  0.39952073,\n",
              "       -0.83052056, -0.86653131,  0.60027419,  0.19188989,  0.56899802,\n",
              "       -0.39124713, -0.63168676,  0.90172586,  0.54772668,  0.19235265,\n",
              "       -0.33678911,  1.73467222,  0.06963135,  0.72984166,  1.00277909,\n",
              "        0.66423569, -0.89998975, -1.92699074,  0.02976248, -0.87469458,\n",
              "        0.19019692, -0.50780876, -0.34206255,  0.48135534,  0.71539173,\n",
              "       -1.34348894,  0.29165473, -2.25896685,  1.40600142, -1.93744757,\n",
              "        0.28070205,  1.10754314,  1.27110812, -0.51844308, -0.04673248,\n",
              "        0.54631149, -1.42458747, -0.54790262,  0.20716911, -1.54827471,\n",
              "        1.09403684,  0.59406935, -0.76964561,  0.32563886,  0.17981418,\n",
              "        1.35934302,  0.17810185, -0.54369708, -1.09536975, -0.57955396,\n",
              "       -0.31646924,  0.6319566 ,  1.26834127, -1.38324506, -1.50411727,\n",
              "       -0.49228644,  0.976059  ,  0.35989706, -0.78304043,  0.27338748,\n",
              "       -0.31040235,  0.27822635, -0.22755285, -1.55386647, -0.1295257 ,\n",
              "        1.1079132 ,  2.15812479,  0.09890991, -0.67002038, -0.30722975,\n",
              "        2.78341966,  0.44072746, -1.05173983, -2.70913883, -0.5940892 ,\n",
              "        3.30233353, -1.47800732,  1.51057872, -0.86446672,  1.49365275,\n",
              "        0.6422105 , -0.35853251,  0.88001801, -0.06662772,  0.35713708,\n",
              "       -0.13503539, -0.36318303,  0.37750602,  0.58281077, -0.86122802,\n",
              "        1.05355162,  0.95631996,  0.67564813, -0.25025734,  0.47249664,\n",
              "        1.12668949, -0.3168257 ,  1.35708873, -0.17638342, -0.0258415 ,\n",
              "       -0.29557374,  0.91697073,  0.15140368, -1.06314205, -1.19032147,\n",
              "        2.17645402,  0.37285161, -0.19003151,  0.88647126, -0.60972512,\n",
              "        2.4038229 ,  1.1139403 , -1.31624621,  1.53711166,  0.87272752,\n",
              "       -1.38481133, -0.10875943, -1.38938153, -0.09486752,  0.02328926,\n",
              "        0.70900047, -0.55504835, -1.09094964,  0.1920133 , -0.31944999,\n",
              "        1.94691871,  0.73891039,  1.91364225, -1.08733208,  1.30088938,\n",
              "        0.51163414,  0.39588858,  0.18077152,  0.28850825, -1.891943  ,\n",
              "       -0.94983772, -1.69928957, -0.51780276, -1.71839227,  0.33890024,\n",
              "        0.03963182,  1.09240012,  0.87768242, -0.56880055,  0.34347632,\n",
              "       -0.25784645,  0.36071478,  0.44459963, -0.39280654, -0.86705278,\n",
              "       -1.54306932,  0.39207243, -0.08208335,  0.4175123 , -0.04512407,\n",
              "        0.89035966, -2.01754294,  1.27341085, -1.55713066,  0.49089694,\n",
              "        1.41757549, -0.58684612, -0.51885461,  0.76421346, -1.03647165,\n",
              "        1.49673025, -1.47757806, -0.29565468, -0.1511721 , -0.1543135 ,\n",
              "        0.38808572,  0.76253967,  1.1350109 , -1.7254155 ,  0.59050761,\n",
              "        1.59817175,  0.19736695, -0.194109  , -0.69443238, -0.48723123,\n",
              "       -2.36262055,  0.63579123,  0.37533758, -0.09079312,  0.94385016,\n",
              "       -1.71080144, -0.08730556, -1.495043  ,  0.17634648,  1.13609498,\n",
              "       -0.85629458,  0.63359454, -0.25954961,  0.44037527,  1.74309608,\n",
              "        1.29483035, -0.04971296, -2.32537172, -0.07474704,  0.56909503,\n",
              "        2.01980443, -0.55881495, -1.99843305, -1.90345504, -3.00357485,\n",
              "        0.73920441,  0.87091857,  0.5048321 , -0.96748148,  0.08970638,\n",
              "        0.26751362, -1.52722479,  0.23033759,  0.56592929,  0.73384865,\n",
              "       -1.43508984,  1.40939046, -1.29401567, -1.02756633, -1.51866674,\n",
              "       -0.78304043,  1.8228695 , -1.24580363, -0.13061219,  0.71440586,\n",
              "        1.80933049,  1.70025789,  0.50869888, -0.17920082,  0.52686435,\n",
              "        1.15939193, -1.78644984, -0.45677527,  0.44901692,  1.39546367,\n",
              "        0.38619159, -0.07473473, -0.27432471, -2.2501451 ,  0.88207523,\n",
              "       -0.29557374,  1.30810228,  0.32657287, -1.21904954, -1.09641926,\n",
              "        0.2958641 ,  1.36754749, -0.41435712, -0.55252058, -1.11072443,\n",
              "       -0.12296899, -0.07538153, -0.18714417,  0.64665229,  0.25967863,\n",
              "        1.35750874,  0.07446178,  1.11584104,  0.25152155, -0.56905591,\n",
              "        0.15501278, -0.06455012,  0.44752095,  0.88489003, -0.01608419,\n",
              "       -0.63523568, -0.12783772,  0.60239894, -0.53843478,  0.86408723,\n",
              "        1.53360956,  0.61932243, -0.16952215,  0.3359412 ,  1.44950101,\n",
              "        1.28756503, -0.419665  ,  0.94630131, -0.66133565,  0.03504926,\n",
              "        0.04307719, -0.29849359,  0.73891039,  1.01009628,  0.05373794,\n",
              "        1.01047567, -1.42243915, -0.33749867,  0.42154766,  1.54646126,\n",
              "        1.06678542, -1.05318787,  0.62973052, -2.60872767, -1.75834464,\n",
              "       -0.09236225,  0.59000062,  0.29165473,  1.18008103,  0.24943794,\n",
              "       -1.31783576,  0.53057469,  0.72683911, -0.50657969,  0.27878979,\n",
              "       -0.6317039 ,  2.4227989 ,  0.10716263,  1.07656261, -0.25843354,\n",
              "        0.50291673, -0.25164158, -0.74100787,  1.8532134 ,  1.49840647,\n",
              "        0.3144391 , -0.82135312, -1.46024952,  0.638718  , -2.11823094,\n",
              "        0.52371495, -1.10331504,  0.94672217,  0.19037209, -0.34977667,\n",
              "       -0.14718018,  0.87272752,  0.44826636,  0.4225185 , -0.4971516 ,\n",
              "       -1.22823935, -1.57146744,  1.19195103,  0.48360195, -1.18303758,\n",
              "       -0.59091512,  0.16824602,  0.95373351, -0.03417659,  0.9197523 ,\n",
              "       -0.70818116,  1.96111065, -1.10627257, -1.12006832,  0.58419729,\n",
              "       -0.25627822,  0.96421823, -0.05851947,  0.29790211, -1.24242221,\n",
              "        0.55851899,  0.67611376,  0.33781846, -0.89998975,  0.74239448,\n",
              "       -0.01918182,  0.97269492, -0.62019695, -1.26771914, -0.70489703,\n",
              "        0.36687697,  1.06673295, -0.08730556,  1.37891503, -0.58949644,\n",
              "        0.36058367, -1.68672196,  2.54054641, -1.66088547,  0.88448234,\n",
              "       -0.28356331, -1.6686342 ,  0.21126266, -0.23506419,  0.04853586,\n",
              "       -2.8295424 ,  0.99519346,  0.3312863 , -1.02845185, -0.30722975,\n",
              "       -0.53843478, -0.92410914, -0.19603561, -0.7656898 ,  0.71539173])"
            ]
          },
          "metadata": {},
          "execution_count": 25
        }
      ]
    },
    {
      "cell_type": "code",
      "source": [
        "print(f\" Mean:{np.mean(sample)}\\n Variance:{np.var(sample)}\\n Standard deviation:{np.std(sample)}\\n\")"
      ],
      "metadata": {
        "colab": {
          "base_uri": "https://localhost:8080/"
        },
        "id": "eFeweSJXA90n",
        "outputId": "122ef78b-1230-4532-89d8-1e1d003ee19f"
      },
      "execution_count": null,
      "outputs": [
        {
          "output_type": "stream",
          "name": "stdout",
          "text": [
            " Mean:-0.00151196332377953\n",
            " Variance:0.9654054852886055\n",
            " Standard deviation:0.9825505001212943\n",
            "\n"
          ]
        }
      ]
    },
    {
      "cell_type": "markdown",
      "source": [
        "# 7. Use seaborn library to load `tips` dataset. Find the following from the dataset for the columns `total_bill` and `tip`:"
      ],
      "metadata": {
        "id": "FXPRJYebCUdK"
      }
    },
    {
      "cell_type": "code",
      "source": [
        "import seaborn as sns"
      ],
      "metadata": {
        "id": "yrbgfw9HCqN8"
      },
      "execution_count": null,
      "outputs": []
    },
    {
      "cell_type": "code",
      "source": [
        "df = sns.load_dataset('tips')\n",
        "df"
      ],
      "metadata": {
        "colab": {
          "base_uri": "https://localhost:8080/",
          "height": 423
        },
        "id": "97dwUawcC6WZ",
        "outputId": "9158f6a5-0570-49a2-f581-9e274b19b836"
      },
      "execution_count": null,
      "outputs": [
        {
          "output_type": "execute_result",
          "data": {
            "text/plain": [
              "     total_bill   tip     sex smoker   day    time  size\n",
              "0         16.99  1.01  Female     No   Sun  Dinner     2\n",
              "1         10.34  1.66    Male     No   Sun  Dinner     3\n",
              "2         21.01  3.50    Male     No   Sun  Dinner     3\n",
              "3         23.68  3.31    Male     No   Sun  Dinner     2\n",
              "4         24.59  3.61  Female     No   Sun  Dinner     4\n",
              "..          ...   ...     ...    ...   ...     ...   ...\n",
              "239       29.03  5.92    Male     No   Sat  Dinner     3\n",
              "240       27.18  2.00  Female    Yes   Sat  Dinner     2\n",
              "241       22.67  2.00    Male    Yes   Sat  Dinner     2\n",
              "242       17.82  1.75    Male     No   Sat  Dinner     2\n",
              "243       18.78  3.00  Female     No  Thur  Dinner     2\n",
              "\n",
              "[244 rows x 7 columns]"
            ],
            "text/html": [
              "\n",
              "  <div id=\"df-4c64b8fe-b278-4ed6-be4f-f6d2027e623f\" class=\"colab-df-container\">\n",
              "    <div>\n",
              "<style scoped>\n",
              "    .dataframe tbody tr th:only-of-type {\n",
              "        vertical-align: middle;\n",
              "    }\n",
              "\n",
              "    .dataframe tbody tr th {\n",
              "        vertical-align: top;\n",
              "    }\n",
              "\n",
              "    .dataframe thead th {\n",
              "        text-align: right;\n",
              "    }\n",
              "</style>\n",
              "<table border=\"1\" class=\"dataframe\">\n",
              "  <thead>\n",
              "    <tr style=\"text-align: right;\">\n",
              "      <th></th>\n",
              "      <th>total_bill</th>\n",
              "      <th>tip</th>\n",
              "      <th>sex</th>\n",
              "      <th>smoker</th>\n",
              "      <th>day</th>\n",
              "      <th>time</th>\n",
              "      <th>size</th>\n",
              "    </tr>\n",
              "  </thead>\n",
              "  <tbody>\n",
              "    <tr>\n",
              "      <th>0</th>\n",
              "      <td>16.99</td>\n",
              "      <td>1.01</td>\n",
              "      <td>Female</td>\n",
              "      <td>No</td>\n",
              "      <td>Sun</td>\n",
              "      <td>Dinner</td>\n",
              "      <td>2</td>\n",
              "    </tr>\n",
              "    <tr>\n",
              "      <th>1</th>\n",
              "      <td>10.34</td>\n",
              "      <td>1.66</td>\n",
              "      <td>Male</td>\n",
              "      <td>No</td>\n",
              "      <td>Sun</td>\n",
              "      <td>Dinner</td>\n",
              "      <td>3</td>\n",
              "    </tr>\n",
              "    <tr>\n",
              "      <th>2</th>\n",
              "      <td>21.01</td>\n",
              "      <td>3.50</td>\n",
              "      <td>Male</td>\n",
              "      <td>No</td>\n",
              "      <td>Sun</td>\n",
              "      <td>Dinner</td>\n",
              "      <td>3</td>\n",
              "    </tr>\n",
              "    <tr>\n",
              "      <th>3</th>\n",
              "      <td>23.68</td>\n",
              "      <td>3.31</td>\n",
              "      <td>Male</td>\n",
              "      <td>No</td>\n",
              "      <td>Sun</td>\n",
              "      <td>Dinner</td>\n",
              "      <td>2</td>\n",
              "    </tr>\n",
              "    <tr>\n",
              "      <th>4</th>\n",
              "      <td>24.59</td>\n",
              "      <td>3.61</td>\n",
              "      <td>Female</td>\n",
              "      <td>No</td>\n",
              "      <td>Sun</td>\n",
              "      <td>Dinner</td>\n",
              "      <td>4</td>\n",
              "    </tr>\n",
              "    <tr>\n",
              "      <th>...</th>\n",
              "      <td>...</td>\n",
              "      <td>...</td>\n",
              "      <td>...</td>\n",
              "      <td>...</td>\n",
              "      <td>...</td>\n",
              "      <td>...</td>\n",
              "      <td>...</td>\n",
              "    </tr>\n",
              "    <tr>\n",
              "      <th>239</th>\n",
              "      <td>29.03</td>\n",
              "      <td>5.92</td>\n",
              "      <td>Male</td>\n",
              "      <td>No</td>\n",
              "      <td>Sat</td>\n",
              "      <td>Dinner</td>\n",
              "      <td>3</td>\n",
              "    </tr>\n",
              "    <tr>\n",
              "      <th>240</th>\n",
              "      <td>27.18</td>\n",
              "      <td>2.00</td>\n",
              "      <td>Female</td>\n",
              "      <td>Yes</td>\n",
              "      <td>Sat</td>\n",
              "      <td>Dinner</td>\n",
              "      <td>2</td>\n",
              "    </tr>\n",
              "    <tr>\n",
              "      <th>241</th>\n",
              "      <td>22.67</td>\n",
              "      <td>2.00</td>\n",
              "      <td>Male</td>\n",
              "      <td>Yes</td>\n",
              "      <td>Sat</td>\n",
              "      <td>Dinner</td>\n",
              "      <td>2</td>\n",
              "    </tr>\n",
              "    <tr>\n",
              "      <th>242</th>\n",
              "      <td>17.82</td>\n",
              "      <td>1.75</td>\n",
              "      <td>Male</td>\n",
              "      <td>No</td>\n",
              "      <td>Sat</td>\n",
              "      <td>Dinner</td>\n",
              "      <td>2</td>\n",
              "    </tr>\n",
              "    <tr>\n",
              "      <th>243</th>\n",
              "      <td>18.78</td>\n",
              "      <td>3.00</td>\n",
              "      <td>Female</td>\n",
              "      <td>No</td>\n",
              "      <td>Thur</td>\n",
              "      <td>Dinner</td>\n",
              "      <td>2</td>\n",
              "    </tr>\n",
              "  </tbody>\n",
              "</table>\n",
              "<p>244 rows × 7 columns</p>\n",
              "</div>\n",
              "    <div class=\"colab-df-buttons\">\n",
              "\n",
              "  <div class=\"colab-df-container\">\n",
              "    <button class=\"colab-df-convert\" onclick=\"convertToInteractive('df-4c64b8fe-b278-4ed6-be4f-f6d2027e623f')\"\n",
              "            title=\"Convert this dataframe to an interactive table.\"\n",
              "            style=\"display:none;\">\n",
              "\n",
              "  <svg xmlns=\"http://www.w3.org/2000/svg\" height=\"24px\" viewBox=\"0 -960 960 960\">\n",
              "    <path d=\"M120-120v-720h720v720H120Zm60-500h600v-160H180v160Zm220 220h160v-160H400v160Zm0 220h160v-160H400v160ZM180-400h160v-160H180v160Zm440 0h160v-160H620v160ZM180-180h160v-160H180v160Zm440 0h160v-160H620v160Z\"/>\n",
              "  </svg>\n",
              "    </button>\n",
              "\n",
              "  <style>\n",
              "    .colab-df-container {\n",
              "      display:flex;\n",
              "      gap: 12px;\n",
              "    }\n",
              "\n",
              "    .colab-df-convert {\n",
              "      background-color: #E8F0FE;\n",
              "      border: none;\n",
              "      border-radius: 50%;\n",
              "      cursor: pointer;\n",
              "      display: none;\n",
              "      fill: #1967D2;\n",
              "      height: 32px;\n",
              "      padding: 0 0 0 0;\n",
              "      width: 32px;\n",
              "    }\n",
              "\n",
              "    .colab-df-convert:hover {\n",
              "      background-color: #E2EBFA;\n",
              "      box-shadow: 0px 1px 2px rgba(60, 64, 67, 0.3), 0px 1px 3px 1px rgba(60, 64, 67, 0.15);\n",
              "      fill: #174EA6;\n",
              "    }\n",
              "\n",
              "    .colab-df-buttons div {\n",
              "      margin-bottom: 4px;\n",
              "    }\n",
              "\n",
              "    [theme=dark] .colab-df-convert {\n",
              "      background-color: #3B4455;\n",
              "      fill: #D2E3FC;\n",
              "    }\n",
              "\n",
              "    [theme=dark] .colab-df-convert:hover {\n",
              "      background-color: #434B5C;\n",
              "      box-shadow: 0px 1px 3px 1px rgba(0, 0, 0, 0.15);\n",
              "      filter: drop-shadow(0px 1px 2px rgba(0, 0, 0, 0.3));\n",
              "      fill: #FFFFFF;\n",
              "    }\n",
              "  </style>\n",
              "\n",
              "    <script>\n",
              "      const buttonEl =\n",
              "        document.querySelector('#df-4c64b8fe-b278-4ed6-be4f-f6d2027e623f button.colab-df-convert');\n",
              "      buttonEl.style.display =\n",
              "        google.colab.kernel.accessAllowed ? 'block' : 'none';\n",
              "\n",
              "      async function convertToInteractive(key) {\n",
              "        const element = document.querySelector('#df-4c64b8fe-b278-4ed6-be4f-f6d2027e623f');\n",
              "        const dataTable =\n",
              "          await google.colab.kernel.invokeFunction('convertToInteractive',\n",
              "                                                    [key], {});\n",
              "        if (!dataTable) return;\n",
              "\n",
              "        const docLinkHtml = 'Like what you see? Visit the ' +\n",
              "          '<a target=\"_blank\" href=https://colab.research.google.com/notebooks/data_table.ipynb>data table notebook</a>'\n",
              "          + ' to learn more about interactive tables.';\n",
              "        element.innerHTML = '';\n",
              "        dataTable['output_type'] = 'display_data';\n",
              "        await google.colab.output.renderOutput(dataTable, element);\n",
              "        const docLink = document.createElement('div');\n",
              "        docLink.innerHTML = docLinkHtml;\n",
              "        element.appendChild(docLink);\n",
              "      }\n",
              "    </script>\n",
              "  </div>\n",
              "\n",
              "\n",
              "<div id=\"df-b3bee995-c920-4e57-8374-a8365a98bcc2\">\n",
              "  <button class=\"colab-df-quickchart\" onclick=\"quickchart('df-b3bee995-c920-4e57-8374-a8365a98bcc2')\"\n",
              "            title=\"Suggest charts\"\n",
              "            style=\"display:none;\">\n",
              "\n",
              "<svg xmlns=\"http://www.w3.org/2000/svg\" height=\"24px\"viewBox=\"0 0 24 24\"\n",
              "     width=\"24px\">\n",
              "    <g>\n",
              "        <path d=\"M19 3H5c-1.1 0-2 .9-2 2v14c0 1.1.9 2 2 2h14c1.1 0 2-.9 2-2V5c0-1.1-.9-2-2-2zM9 17H7v-7h2v7zm4 0h-2V7h2v10zm4 0h-2v-4h2v4z\"/>\n",
              "    </g>\n",
              "</svg>\n",
              "  </button>\n",
              "\n",
              "<style>\n",
              "  .colab-df-quickchart {\n",
              "      --bg-color: #E8F0FE;\n",
              "      --fill-color: #1967D2;\n",
              "      --hover-bg-color: #E2EBFA;\n",
              "      --hover-fill-color: #174EA6;\n",
              "      --disabled-fill-color: #AAA;\n",
              "      --disabled-bg-color: #DDD;\n",
              "  }\n",
              "\n",
              "  [theme=dark] .colab-df-quickchart {\n",
              "      --bg-color: #3B4455;\n",
              "      --fill-color: #D2E3FC;\n",
              "      --hover-bg-color: #434B5C;\n",
              "      --hover-fill-color: #FFFFFF;\n",
              "      --disabled-bg-color: #3B4455;\n",
              "      --disabled-fill-color: #666;\n",
              "  }\n",
              "\n",
              "  .colab-df-quickchart {\n",
              "    background-color: var(--bg-color);\n",
              "    border: none;\n",
              "    border-radius: 50%;\n",
              "    cursor: pointer;\n",
              "    display: none;\n",
              "    fill: var(--fill-color);\n",
              "    height: 32px;\n",
              "    padding: 0;\n",
              "    width: 32px;\n",
              "  }\n",
              "\n",
              "  .colab-df-quickchart:hover {\n",
              "    background-color: var(--hover-bg-color);\n",
              "    box-shadow: 0 1px 2px rgba(60, 64, 67, 0.3), 0 1px 3px 1px rgba(60, 64, 67, 0.15);\n",
              "    fill: var(--button-hover-fill-color);\n",
              "  }\n",
              "\n",
              "  .colab-df-quickchart-complete:disabled,\n",
              "  .colab-df-quickchart-complete:disabled:hover {\n",
              "    background-color: var(--disabled-bg-color);\n",
              "    fill: var(--disabled-fill-color);\n",
              "    box-shadow: none;\n",
              "  }\n",
              "\n",
              "  .colab-df-spinner {\n",
              "    border: 2px solid var(--fill-color);\n",
              "    border-color: transparent;\n",
              "    border-bottom-color: var(--fill-color);\n",
              "    animation:\n",
              "      spin 1s steps(1) infinite;\n",
              "  }\n",
              "\n",
              "  @keyframes spin {\n",
              "    0% {\n",
              "      border-color: transparent;\n",
              "      border-bottom-color: var(--fill-color);\n",
              "      border-left-color: var(--fill-color);\n",
              "    }\n",
              "    20% {\n",
              "      border-color: transparent;\n",
              "      border-left-color: var(--fill-color);\n",
              "      border-top-color: var(--fill-color);\n",
              "    }\n",
              "    30% {\n",
              "      border-color: transparent;\n",
              "      border-left-color: var(--fill-color);\n",
              "      border-top-color: var(--fill-color);\n",
              "      border-right-color: var(--fill-color);\n",
              "    }\n",
              "    40% {\n",
              "      border-color: transparent;\n",
              "      border-right-color: var(--fill-color);\n",
              "      border-top-color: var(--fill-color);\n",
              "    }\n",
              "    60% {\n",
              "      border-color: transparent;\n",
              "      border-right-color: var(--fill-color);\n",
              "    }\n",
              "    80% {\n",
              "      border-color: transparent;\n",
              "      border-right-color: var(--fill-color);\n",
              "      border-bottom-color: var(--fill-color);\n",
              "    }\n",
              "    90% {\n",
              "      border-color: transparent;\n",
              "      border-bottom-color: var(--fill-color);\n",
              "    }\n",
              "  }\n",
              "</style>\n",
              "\n",
              "  <script>\n",
              "    async function quickchart(key) {\n",
              "      const quickchartButtonEl =\n",
              "        document.querySelector('#' + key + ' button');\n",
              "      quickchartButtonEl.disabled = true;  // To prevent multiple clicks.\n",
              "      quickchartButtonEl.classList.add('colab-df-spinner');\n",
              "      try {\n",
              "        const charts = await google.colab.kernel.invokeFunction(\n",
              "            'suggestCharts', [key], {});\n",
              "      } catch (error) {\n",
              "        console.error('Error during call to suggestCharts:', error);\n",
              "      }\n",
              "      quickchartButtonEl.classList.remove('colab-df-spinner');\n",
              "      quickchartButtonEl.classList.add('colab-df-quickchart-complete');\n",
              "    }\n",
              "    (() => {\n",
              "      let quickchartButtonEl =\n",
              "        document.querySelector('#df-b3bee995-c920-4e57-8374-a8365a98bcc2 button');\n",
              "      quickchartButtonEl.style.display =\n",
              "        google.colab.kernel.accessAllowed ? 'block' : 'none';\n",
              "    })();\n",
              "  </script>\n",
              "</div>\n",
              "\n",
              "  <div id=\"id_5d78ee91-d864-44e6-a58b-dd0c0bd85aad\">\n",
              "    <style>\n",
              "      .colab-df-generate {\n",
              "        background-color: #E8F0FE;\n",
              "        border: none;\n",
              "        border-radius: 50%;\n",
              "        cursor: pointer;\n",
              "        display: none;\n",
              "        fill: #1967D2;\n",
              "        height: 32px;\n",
              "        padding: 0 0 0 0;\n",
              "        width: 32px;\n",
              "      }\n",
              "\n",
              "      .colab-df-generate:hover {\n",
              "        background-color: #E2EBFA;\n",
              "        box-shadow: 0px 1px 2px rgba(60, 64, 67, 0.3), 0px 1px 3px 1px rgba(60, 64, 67, 0.15);\n",
              "        fill: #174EA6;\n",
              "      }\n",
              "\n",
              "      [theme=dark] .colab-df-generate {\n",
              "        background-color: #3B4455;\n",
              "        fill: #D2E3FC;\n",
              "      }\n",
              "\n",
              "      [theme=dark] .colab-df-generate:hover {\n",
              "        background-color: #434B5C;\n",
              "        box-shadow: 0px 1px 3px 1px rgba(0, 0, 0, 0.15);\n",
              "        filter: drop-shadow(0px 1px 2px rgba(0, 0, 0, 0.3));\n",
              "        fill: #FFFFFF;\n",
              "      }\n",
              "    </style>\n",
              "    <button class=\"colab-df-generate\" onclick=\"generateWithVariable('df')\"\n",
              "            title=\"Generate code using this dataframe.\"\n",
              "            style=\"display:none;\">\n",
              "\n",
              "  <svg xmlns=\"http://www.w3.org/2000/svg\" height=\"24px\"viewBox=\"0 0 24 24\"\n",
              "       width=\"24px\">\n",
              "    <path d=\"M7,19H8.4L18.45,9,17,7.55,7,17.6ZM5,21V16.75L18.45,3.32a2,2,0,0,1,2.83,0l1.4,1.43a1.91,1.91,0,0,1,.58,1.4,1.91,1.91,0,0,1-.58,1.4L9.25,21ZM18.45,9,17,7.55Zm-12,3A5.31,5.31,0,0,0,4.9,8.1,5.31,5.31,0,0,0,1,6.5,5.31,5.31,0,0,0,4.9,4.9,5.31,5.31,0,0,0,6.5,1,5.31,5.31,0,0,0,8.1,4.9,5.31,5.31,0,0,0,12,6.5,5.46,5.46,0,0,0,6.5,12Z\"/>\n",
              "  </svg>\n",
              "    </button>\n",
              "    <script>\n",
              "      (() => {\n",
              "      const buttonEl =\n",
              "        document.querySelector('#id_5d78ee91-d864-44e6-a58b-dd0c0bd85aad button.colab-df-generate');\n",
              "      buttonEl.style.display =\n",
              "        google.colab.kernel.accessAllowed ? 'block' : 'none';\n",
              "\n",
              "      buttonEl.onclick = () => {\n",
              "        google.colab.notebook.generateWithVariable('df');\n",
              "      }\n",
              "      })();\n",
              "    </script>\n",
              "  </div>\n",
              "\n",
              "    </div>\n",
              "  </div>\n"
            ],
            "application/vnd.google.colaboratory.intrinsic+json": {
              "type": "dataframe",
              "variable_name": "df",
              "summary": "{\n  \"name\": \"df\",\n  \"rows\": 244,\n  \"fields\": [\n    {\n      \"column\": \"total_bill\",\n      \"properties\": {\n        \"dtype\": \"number\",\n        \"std\": 8.902411954856856,\n        \"min\": 3.07,\n        \"max\": 50.81,\n        \"num_unique_values\": 229,\n        \"samples\": [\n          22.12,\n          20.23,\n          14.78\n        ],\n        \"semantic_type\": \"\",\n        \"description\": \"\"\n      }\n    },\n    {\n      \"column\": \"tip\",\n      \"properties\": {\n        \"dtype\": \"number\",\n        \"std\": 1.3836381890011822,\n        \"min\": 1.0,\n        \"max\": 10.0,\n        \"num_unique_values\": 123,\n        \"samples\": [\n          3.35,\n          1.5,\n          6.73\n        ],\n        \"semantic_type\": \"\",\n        \"description\": \"\"\n      }\n    },\n    {\n      \"column\": \"sex\",\n      \"properties\": {\n        \"dtype\": \"category\",\n        \"num_unique_values\": 2,\n        \"samples\": [\n          \"Male\",\n          \"Female\"\n        ],\n        \"semantic_type\": \"\",\n        \"description\": \"\"\n      }\n    },\n    {\n      \"column\": \"smoker\",\n      \"properties\": {\n        \"dtype\": \"category\",\n        \"num_unique_values\": 2,\n        \"samples\": [\n          \"Yes\",\n          \"No\"\n        ],\n        \"semantic_type\": \"\",\n        \"description\": \"\"\n      }\n    },\n    {\n      \"column\": \"day\",\n      \"properties\": {\n        \"dtype\": \"category\",\n        \"num_unique_values\": 4,\n        \"samples\": [\n          \"Sat\",\n          \"Fri\"\n        ],\n        \"semantic_type\": \"\",\n        \"description\": \"\"\n      }\n    },\n    {\n      \"column\": \"time\",\n      \"properties\": {\n        \"dtype\": \"category\",\n        \"num_unique_values\": 2,\n        \"samples\": [\n          \"Lunch\",\n          \"Dinner\"\n        ],\n        \"semantic_type\": \"\",\n        \"description\": \"\"\n      }\n    },\n    {\n      \"column\": \"size\",\n      \"properties\": {\n        \"dtype\": \"number\",\n        \"std\": 0,\n        \"min\": 1,\n        \"max\": 6,\n        \"num_unique_values\": 6,\n        \"samples\": [\n          2,\n          3\n        ],\n        \"semantic_type\": \"\",\n        \"description\": \"\"\n      }\n    }\n  ]\n}"
            }
          },
          "metadata": {},
          "execution_count": 32
        }
      ]
    },
    {
      "cell_type": "code",
      "source": [
        "column = df[['total_bill','tip']]\n",
        "column"
      ],
      "metadata": {
        "colab": {
          "base_uri": "https://localhost:8080/",
          "height": 423
        },
        "id": "JQRgDDqgDDPN",
        "outputId": "0a2a7584-86dd-47e6-a747-0269b67d9006"
      },
      "execution_count": null,
      "outputs": [
        {
          "output_type": "execute_result",
          "data": {
            "text/plain": [
              "     total_bill   tip\n",
              "0         16.99  1.01\n",
              "1         10.34  1.66\n",
              "2         21.01  3.50\n",
              "3         23.68  3.31\n",
              "4         24.59  3.61\n",
              "..          ...   ...\n",
              "239       29.03  5.92\n",
              "240       27.18  2.00\n",
              "241       22.67  2.00\n",
              "242       17.82  1.75\n",
              "243       18.78  3.00\n",
              "\n",
              "[244 rows x 2 columns]"
            ],
            "text/html": [
              "\n",
              "  <div id=\"df-2ca57b35-8ace-4443-abaf-44e0339d6cad\" class=\"colab-df-container\">\n",
              "    <div>\n",
              "<style scoped>\n",
              "    .dataframe tbody tr th:only-of-type {\n",
              "        vertical-align: middle;\n",
              "    }\n",
              "\n",
              "    .dataframe tbody tr th {\n",
              "        vertical-align: top;\n",
              "    }\n",
              "\n",
              "    .dataframe thead th {\n",
              "        text-align: right;\n",
              "    }\n",
              "</style>\n",
              "<table border=\"1\" class=\"dataframe\">\n",
              "  <thead>\n",
              "    <tr style=\"text-align: right;\">\n",
              "      <th></th>\n",
              "      <th>total_bill</th>\n",
              "      <th>tip</th>\n",
              "    </tr>\n",
              "  </thead>\n",
              "  <tbody>\n",
              "    <tr>\n",
              "      <th>0</th>\n",
              "      <td>16.99</td>\n",
              "      <td>1.01</td>\n",
              "    </tr>\n",
              "    <tr>\n",
              "      <th>1</th>\n",
              "      <td>10.34</td>\n",
              "      <td>1.66</td>\n",
              "    </tr>\n",
              "    <tr>\n",
              "      <th>2</th>\n",
              "      <td>21.01</td>\n",
              "      <td>3.50</td>\n",
              "    </tr>\n",
              "    <tr>\n",
              "      <th>3</th>\n",
              "      <td>23.68</td>\n",
              "      <td>3.31</td>\n",
              "    </tr>\n",
              "    <tr>\n",
              "      <th>4</th>\n",
              "      <td>24.59</td>\n",
              "      <td>3.61</td>\n",
              "    </tr>\n",
              "    <tr>\n",
              "      <th>...</th>\n",
              "      <td>...</td>\n",
              "      <td>...</td>\n",
              "    </tr>\n",
              "    <tr>\n",
              "      <th>239</th>\n",
              "      <td>29.03</td>\n",
              "      <td>5.92</td>\n",
              "    </tr>\n",
              "    <tr>\n",
              "      <th>240</th>\n",
              "      <td>27.18</td>\n",
              "      <td>2.00</td>\n",
              "    </tr>\n",
              "    <tr>\n",
              "      <th>241</th>\n",
              "      <td>22.67</td>\n",
              "      <td>2.00</td>\n",
              "    </tr>\n",
              "    <tr>\n",
              "      <th>242</th>\n",
              "      <td>17.82</td>\n",
              "      <td>1.75</td>\n",
              "    </tr>\n",
              "    <tr>\n",
              "      <th>243</th>\n",
              "      <td>18.78</td>\n",
              "      <td>3.00</td>\n",
              "    </tr>\n",
              "  </tbody>\n",
              "</table>\n",
              "<p>244 rows × 2 columns</p>\n",
              "</div>\n",
              "    <div class=\"colab-df-buttons\">\n",
              "\n",
              "  <div class=\"colab-df-container\">\n",
              "    <button class=\"colab-df-convert\" onclick=\"convertToInteractive('df-2ca57b35-8ace-4443-abaf-44e0339d6cad')\"\n",
              "            title=\"Convert this dataframe to an interactive table.\"\n",
              "            style=\"display:none;\">\n",
              "\n",
              "  <svg xmlns=\"http://www.w3.org/2000/svg\" height=\"24px\" viewBox=\"0 -960 960 960\">\n",
              "    <path d=\"M120-120v-720h720v720H120Zm60-500h600v-160H180v160Zm220 220h160v-160H400v160Zm0 220h160v-160H400v160ZM180-400h160v-160H180v160Zm440 0h160v-160H620v160ZM180-180h160v-160H180v160Zm440 0h160v-160H620v160Z\"/>\n",
              "  </svg>\n",
              "    </button>\n",
              "\n",
              "  <style>\n",
              "    .colab-df-container {\n",
              "      display:flex;\n",
              "      gap: 12px;\n",
              "    }\n",
              "\n",
              "    .colab-df-convert {\n",
              "      background-color: #E8F0FE;\n",
              "      border: none;\n",
              "      border-radius: 50%;\n",
              "      cursor: pointer;\n",
              "      display: none;\n",
              "      fill: #1967D2;\n",
              "      height: 32px;\n",
              "      padding: 0 0 0 0;\n",
              "      width: 32px;\n",
              "    }\n",
              "\n",
              "    .colab-df-convert:hover {\n",
              "      background-color: #E2EBFA;\n",
              "      box-shadow: 0px 1px 2px rgba(60, 64, 67, 0.3), 0px 1px 3px 1px rgba(60, 64, 67, 0.15);\n",
              "      fill: #174EA6;\n",
              "    }\n",
              "\n",
              "    .colab-df-buttons div {\n",
              "      margin-bottom: 4px;\n",
              "    }\n",
              "\n",
              "    [theme=dark] .colab-df-convert {\n",
              "      background-color: #3B4455;\n",
              "      fill: #D2E3FC;\n",
              "    }\n",
              "\n",
              "    [theme=dark] .colab-df-convert:hover {\n",
              "      background-color: #434B5C;\n",
              "      box-shadow: 0px 1px 3px 1px rgba(0, 0, 0, 0.15);\n",
              "      filter: drop-shadow(0px 1px 2px rgba(0, 0, 0, 0.3));\n",
              "      fill: #FFFFFF;\n",
              "    }\n",
              "  </style>\n",
              "\n",
              "    <script>\n",
              "      const buttonEl =\n",
              "        document.querySelector('#df-2ca57b35-8ace-4443-abaf-44e0339d6cad button.colab-df-convert');\n",
              "      buttonEl.style.display =\n",
              "        google.colab.kernel.accessAllowed ? 'block' : 'none';\n",
              "\n",
              "      async function convertToInteractive(key) {\n",
              "        const element = document.querySelector('#df-2ca57b35-8ace-4443-abaf-44e0339d6cad');\n",
              "        const dataTable =\n",
              "          await google.colab.kernel.invokeFunction('convertToInteractive',\n",
              "                                                    [key], {});\n",
              "        if (!dataTable) return;\n",
              "\n",
              "        const docLinkHtml = 'Like what you see? Visit the ' +\n",
              "          '<a target=\"_blank\" href=https://colab.research.google.com/notebooks/data_table.ipynb>data table notebook</a>'\n",
              "          + ' to learn more about interactive tables.';\n",
              "        element.innerHTML = '';\n",
              "        dataTable['output_type'] = 'display_data';\n",
              "        await google.colab.output.renderOutput(dataTable, element);\n",
              "        const docLink = document.createElement('div');\n",
              "        docLink.innerHTML = docLinkHtml;\n",
              "        element.appendChild(docLink);\n",
              "      }\n",
              "    </script>\n",
              "  </div>\n",
              "\n",
              "\n",
              "<div id=\"df-1e4a3f2f-cd55-4426-a9cd-9f69b0bb746f\">\n",
              "  <button class=\"colab-df-quickchart\" onclick=\"quickchart('df-1e4a3f2f-cd55-4426-a9cd-9f69b0bb746f')\"\n",
              "            title=\"Suggest charts\"\n",
              "            style=\"display:none;\">\n",
              "\n",
              "<svg xmlns=\"http://www.w3.org/2000/svg\" height=\"24px\"viewBox=\"0 0 24 24\"\n",
              "     width=\"24px\">\n",
              "    <g>\n",
              "        <path d=\"M19 3H5c-1.1 0-2 .9-2 2v14c0 1.1.9 2 2 2h14c1.1 0 2-.9 2-2V5c0-1.1-.9-2-2-2zM9 17H7v-7h2v7zm4 0h-2V7h2v10zm4 0h-2v-4h2v4z\"/>\n",
              "    </g>\n",
              "</svg>\n",
              "  </button>\n",
              "\n",
              "<style>\n",
              "  .colab-df-quickchart {\n",
              "      --bg-color: #E8F0FE;\n",
              "      --fill-color: #1967D2;\n",
              "      --hover-bg-color: #E2EBFA;\n",
              "      --hover-fill-color: #174EA6;\n",
              "      --disabled-fill-color: #AAA;\n",
              "      --disabled-bg-color: #DDD;\n",
              "  }\n",
              "\n",
              "  [theme=dark] .colab-df-quickchart {\n",
              "      --bg-color: #3B4455;\n",
              "      --fill-color: #D2E3FC;\n",
              "      --hover-bg-color: #434B5C;\n",
              "      --hover-fill-color: #FFFFFF;\n",
              "      --disabled-bg-color: #3B4455;\n",
              "      --disabled-fill-color: #666;\n",
              "  }\n",
              "\n",
              "  .colab-df-quickchart {\n",
              "    background-color: var(--bg-color);\n",
              "    border: none;\n",
              "    border-radius: 50%;\n",
              "    cursor: pointer;\n",
              "    display: none;\n",
              "    fill: var(--fill-color);\n",
              "    height: 32px;\n",
              "    padding: 0;\n",
              "    width: 32px;\n",
              "  }\n",
              "\n",
              "  .colab-df-quickchart:hover {\n",
              "    background-color: var(--hover-bg-color);\n",
              "    box-shadow: 0 1px 2px rgba(60, 64, 67, 0.3), 0 1px 3px 1px rgba(60, 64, 67, 0.15);\n",
              "    fill: var(--button-hover-fill-color);\n",
              "  }\n",
              "\n",
              "  .colab-df-quickchart-complete:disabled,\n",
              "  .colab-df-quickchart-complete:disabled:hover {\n",
              "    background-color: var(--disabled-bg-color);\n",
              "    fill: var(--disabled-fill-color);\n",
              "    box-shadow: none;\n",
              "  }\n",
              "\n",
              "  .colab-df-spinner {\n",
              "    border: 2px solid var(--fill-color);\n",
              "    border-color: transparent;\n",
              "    border-bottom-color: var(--fill-color);\n",
              "    animation:\n",
              "      spin 1s steps(1) infinite;\n",
              "  }\n",
              "\n",
              "  @keyframes spin {\n",
              "    0% {\n",
              "      border-color: transparent;\n",
              "      border-bottom-color: var(--fill-color);\n",
              "      border-left-color: var(--fill-color);\n",
              "    }\n",
              "    20% {\n",
              "      border-color: transparent;\n",
              "      border-left-color: var(--fill-color);\n",
              "      border-top-color: var(--fill-color);\n",
              "    }\n",
              "    30% {\n",
              "      border-color: transparent;\n",
              "      border-left-color: var(--fill-color);\n",
              "      border-top-color: var(--fill-color);\n",
              "      border-right-color: var(--fill-color);\n",
              "    }\n",
              "    40% {\n",
              "      border-color: transparent;\n",
              "      border-right-color: var(--fill-color);\n",
              "      border-top-color: var(--fill-color);\n",
              "    }\n",
              "    60% {\n",
              "      border-color: transparent;\n",
              "      border-right-color: var(--fill-color);\n",
              "    }\n",
              "    80% {\n",
              "      border-color: transparent;\n",
              "      border-right-color: var(--fill-color);\n",
              "      border-bottom-color: var(--fill-color);\n",
              "    }\n",
              "    90% {\n",
              "      border-color: transparent;\n",
              "      border-bottom-color: var(--fill-color);\n",
              "    }\n",
              "  }\n",
              "</style>\n",
              "\n",
              "  <script>\n",
              "    async function quickchart(key) {\n",
              "      const quickchartButtonEl =\n",
              "        document.querySelector('#' + key + ' button');\n",
              "      quickchartButtonEl.disabled = true;  // To prevent multiple clicks.\n",
              "      quickchartButtonEl.classList.add('colab-df-spinner');\n",
              "      try {\n",
              "        const charts = await google.colab.kernel.invokeFunction(\n",
              "            'suggestCharts', [key], {});\n",
              "      } catch (error) {\n",
              "        console.error('Error during call to suggestCharts:', error);\n",
              "      }\n",
              "      quickchartButtonEl.classList.remove('colab-df-spinner');\n",
              "      quickchartButtonEl.classList.add('colab-df-quickchart-complete');\n",
              "    }\n",
              "    (() => {\n",
              "      let quickchartButtonEl =\n",
              "        document.querySelector('#df-1e4a3f2f-cd55-4426-a9cd-9f69b0bb746f button');\n",
              "      quickchartButtonEl.style.display =\n",
              "        google.colab.kernel.accessAllowed ? 'block' : 'none';\n",
              "    })();\n",
              "  </script>\n",
              "</div>\n",
              "\n",
              "  <div id=\"id_f0abff07-083c-4d7d-9b62-193101a588c6\">\n",
              "    <style>\n",
              "      .colab-df-generate {\n",
              "        background-color: #E8F0FE;\n",
              "        border: none;\n",
              "        border-radius: 50%;\n",
              "        cursor: pointer;\n",
              "        display: none;\n",
              "        fill: #1967D2;\n",
              "        height: 32px;\n",
              "        padding: 0 0 0 0;\n",
              "        width: 32px;\n",
              "      }\n",
              "\n",
              "      .colab-df-generate:hover {\n",
              "        background-color: #E2EBFA;\n",
              "        box-shadow: 0px 1px 2px rgba(60, 64, 67, 0.3), 0px 1px 3px 1px rgba(60, 64, 67, 0.15);\n",
              "        fill: #174EA6;\n",
              "      }\n",
              "\n",
              "      [theme=dark] .colab-df-generate {\n",
              "        background-color: #3B4455;\n",
              "        fill: #D2E3FC;\n",
              "      }\n",
              "\n",
              "      [theme=dark] .colab-df-generate:hover {\n",
              "        background-color: #434B5C;\n",
              "        box-shadow: 0px 1px 3px 1px rgba(0, 0, 0, 0.15);\n",
              "        filter: drop-shadow(0px 1px 2px rgba(0, 0, 0, 0.3));\n",
              "        fill: #FFFFFF;\n",
              "      }\n",
              "    </style>\n",
              "    <button class=\"colab-df-generate\" onclick=\"generateWithVariable('column')\"\n",
              "            title=\"Generate code using this dataframe.\"\n",
              "            style=\"display:none;\">\n",
              "\n",
              "  <svg xmlns=\"http://www.w3.org/2000/svg\" height=\"24px\"viewBox=\"0 0 24 24\"\n",
              "       width=\"24px\">\n",
              "    <path d=\"M7,19H8.4L18.45,9,17,7.55,7,17.6ZM5,21V16.75L18.45,3.32a2,2,0,0,1,2.83,0l1.4,1.43a1.91,1.91,0,0,1,.58,1.4,1.91,1.91,0,0,1-.58,1.4L9.25,21ZM18.45,9,17,7.55Zm-12,3A5.31,5.31,0,0,0,4.9,8.1,5.31,5.31,0,0,0,1,6.5,5.31,5.31,0,0,0,4.9,4.9,5.31,5.31,0,0,0,6.5,1,5.31,5.31,0,0,0,8.1,4.9,5.31,5.31,0,0,0,12,6.5,5.46,5.46,0,0,0,6.5,12Z\"/>\n",
              "  </svg>\n",
              "    </button>\n",
              "    <script>\n",
              "      (() => {\n",
              "      const buttonEl =\n",
              "        document.querySelector('#id_f0abff07-083c-4d7d-9b62-193101a588c6 button.colab-df-generate');\n",
              "      buttonEl.style.display =\n",
              "        google.colab.kernel.accessAllowed ? 'block' : 'none';\n",
              "\n",
              "      buttonEl.onclick = () => {\n",
              "        google.colab.notebook.generateWithVariable('column');\n",
              "      }\n",
              "      })();\n",
              "    </script>\n",
              "  </div>\n",
              "\n",
              "    </div>\n",
              "  </div>\n"
            ],
            "application/vnd.google.colaboratory.intrinsic+json": {
              "type": "dataframe",
              "variable_name": "column",
              "summary": "{\n  \"name\": \"column\",\n  \"rows\": 244,\n  \"fields\": [\n    {\n      \"column\": \"total_bill\",\n      \"properties\": {\n        \"dtype\": \"number\",\n        \"std\": 8.902411954856856,\n        \"min\": 3.07,\n        \"max\": 50.81,\n        \"num_unique_values\": 229,\n        \"samples\": [\n          22.12,\n          20.23,\n          14.78\n        ],\n        \"semantic_type\": \"\",\n        \"description\": \"\"\n      }\n    },\n    {\n      \"column\": \"tip\",\n      \"properties\": {\n        \"dtype\": \"number\",\n        \"std\": 1.3836381890011822,\n        \"min\": 1.0,\n        \"max\": 10.0,\n        \"num_unique_values\": 123,\n        \"samples\": [\n          3.35,\n          1.5,\n          6.73\n        ],\n        \"semantic_type\": \"\",\n        \"description\": \"\"\n      }\n    }\n  ]\n}"
            }
          },
          "metadata": {},
          "execution_count": 35
        }
      ]
    },
    {
      "cell_type": "markdown",
      "source": [
        "  # (i) Write a Python function that calculates their skewness."
      ],
      "metadata": {
        "id": "Ub95XSdPDR_C"
      }
    },
    {
      "cell_type": "code",
      "source": [
        "from scipy.stats import skew\n",
        "\n",
        "def calculate_skewness(num):\n",
        "    skewness = skew(num)\n",
        "    return skewness"
      ],
      "metadata": {
        "id": "NrRvOXNwDXrW"
      },
      "execution_count": null,
      "outputs": []
    },
    {
      "cell_type": "code",
      "source": [
        "calculate_skewness(column)"
      ],
      "metadata": {
        "colab": {
          "base_uri": "https://localhost:8080/"
        },
        "id": "grBHA5d-FsjC",
        "outputId": "7e51c7a6-737f-4d6c-ac7e-142806330734"
      },
      "execution_count": null,
      "outputs": [
        {
          "output_type": "execute_result",
          "data": {
            "text/plain": [
              "array([1.12623463, 1.45642669])"
            ]
          },
          "metadata": {},
          "execution_count": 39
        }
      ]
    },
    {
      "cell_type": "markdown",
      "source": [
        "  # (ii) Create a program that determines whether the columns exhibit positive skewness, negative skewness, or is approximately symmetric."
      ],
      "metadata": {
        "id": "sk6iSBSSGRkd"
      }
    },
    {
      "cell_type": "code",
      "source": [
        "def determine_skew(*num):\n",
        "    if skew(*num) == 0:\n",
        "       print(\"Approximately Symmetric\")\n",
        "\n",
        "    elif skew(*num) > 0:\n",
        "         print('Positive Skewness')\n",
        "\n",
        "    else:\n",
        "      print(\"Negative Skewness\")"
      ],
      "metadata": {
        "id": "-KFhu1FiGua-"
      },
      "execution_count": null,
      "outputs": []
    },
    {
      "cell_type": "code",
      "source": [
        "determine_skew(df['total_bill'])"
      ],
      "metadata": {
        "colab": {
          "base_uri": "https://localhost:8080/"
        },
        "id": "RyOETGXnIRCW",
        "outputId": "8fae919d-9789-4e85-d0b2-c484051f6858"
      },
      "execution_count": null,
      "outputs": [
        {
          "output_type": "stream",
          "name": "stdout",
          "text": [
            "Positive Skewness\n"
          ]
        }
      ]
    },
    {
      "cell_type": "code",
      "source": [
        "determine_skew(df['tip'])"
      ],
      "metadata": {
        "colab": {
          "base_uri": "https://localhost:8080/"
        },
        "id": "JdR3DAKyJcDC",
        "outputId": "bf19268c-2417-4073-8a7d-2fe624203ad9"
      },
      "execution_count": null,
      "outputs": [
        {
          "output_type": "stream",
          "name": "stdout",
          "text": [
            "Positive Skewness\n"
          ]
        }
      ]
    },
    {
      "cell_type": "markdown",
      "source": [
        "  # (iii) Write a function that calculates the covariance between two columns."
      ],
      "metadata": {
        "id": "wpj61HZbJstS"
      }
    },
    {
      "cell_type": "code",
      "source": [
        "print(f\"Covariance: {np.cov(column)}\")"
      ],
      "metadata": {
        "colab": {
          "base_uri": "https://localhost:8080/"
        },
        "id": "e-sbhlLwJ3k6",
        "outputId": "a06f286f-6d6e-4f15-8381-e7bf5ecd067e"
      },
      "execution_count": null,
      "outputs": [
        {
          "output_type": "stream",
          "name": "stdout",
          "text": [
            "Covariance: [[127.6802   69.3532  139.9049  ... 165.1533  128.3993  126.0822 ]\n",
            " [ 69.3532   37.6712   75.9934  ...  89.7078   69.7438   68.4852 ]\n",
            " [139.9049   75.9934  153.30005 ... 180.96585 140.69285 138.1539 ]\n",
            " ...\n",
            " [165.1533   89.7078  180.96585 ... 213.62445 166.08345 163.0863 ]\n",
            " [128.3993   69.7438  140.69285 ... 166.08345 129.12245 126.7923 ]\n",
            " [126.0822   68.4852  138.1539  ... 163.0863  126.7923  124.5042 ]]\n"
          ]
        }
      ]
    },
    {
      "cell_type": "markdown",
      "source": [
        "  # (iv) Implement a Python program that calculates the Pearson correlation coefficient between two columns."
      ],
      "metadata": {
        "id": "YpSFYUffKNvF"
      }
    },
    {
      "cell_type": "code",
      "source": [
        "from scipy.stats import pearsonr\n",
        "\n",
        "def Pearson_correlation(x, y):\n",
        "    Pearson = pearsonr(x, y)\n",
        "    return Pearson"
      ],
      "metadata": {
        "id": "IIwc63OMKWrX"
      },
      "execution_count": null,
      "outputs": []
    },
    {
      "cell_type": "code",
      "source": [
        "x = df['total_bill']\n",
        "y = df['tip']\n",
        "\n",
        "Pearson_correlation(x, y)"
      ],
      "metadata": {
        "colab": {
          "base_uri": "https://localhost:8080/"
        },
        "id": "YZAGAOs8Mcz6",
        "outputId": "40e409ae-c67f-49ab-8db6-6514b86052da"
      },
      "execution_count": null,
      "outputs": [
        {
          "output_type": "execute_result",
          "data": {
            "text/plain": [
              "PearsonRResult(statistic=0.6757341092113647, pvalue=6.69247064686336e-34)"
            ]
          },
          "metadata": {},
          "execution_count": 64
        }
      ]
    },
    {
      "cell_type": "markdown",
      "source": [
        "  # (v) Write a script to visualize the correlation between two specific columns in a Pandas DataFrame using scatter plots."
      ],
      "metadata": {
        "id": "KnKOjos4M5xH"
      }
    },
    {
      "cell_type": "code",
      "source": [
        "sns.scatterplot(column)"
      ],
      "metadata": {
        "colab": {
          "base_uri": "https://localhost:8080/",
          "height": 447
        },
        "id": "2anCn3p-NP6T",
        "outputId": "5efc1d0d-e051-4dbc-913e-ebf18860aaa6"
      },
      "execution_count": null,
      "outputs": [
        {
          "output_type": "execute_result",
          "data": {
            "text/plain": [
              "<Axes: >"
            ]
          },
          "metadata": {},
          "execution_count": 65
        },
        {
          "output_type": "display_data",
          "data": {
            "text/plain": [
              "<Figure size 640x480 with 1 Axes>"
            ],
            "image/png": "[encoded data removed]"
          },
          "metadata": {}
        }
      ]
    },
    {
      "cell_type": "markdown",
      "source": [
        "# 8) Write a Python function to calculate the probability density function (PDF) of a continuous random variable for a given normal distribution.\n"
      ],
      "metadata": {
        "id": "7VfpLE1aNoHV"
      }
    },
    {
      "cell_type": "code",
      "source": [
        "from scipy.stats import norm\n",
        "\n",
        "def PDF(x):\n",
        "    return norm.pdf(x)"
      ],
      "metadata": {
        "id": "BRHDuZPWN_AT"
      },
      "execution_count": null,
      "outputs": []
    },
    {
      "cell_type": "code",
      "source": [
        "x = np.random.normal(size = 100)\n",
        "x"
      ],
      "metadata": {
        "colab": {
          "base_uri": "https://localhost:8080/"
        },
        "id": "JRE4WeqzS6c-",
        "outputId": "1f965946-031d-47a4-8280-15730e1ea449"
      },
      "execution_count": null,
      "outputs": [
        {
          "output_type": "execute_result",
          "data": {
            "text/plain": [
              "array([-2.02316983,  1.54601656,  0.82836915,  1.67996153,  0.36283594,\n",
              "        0.53028669, -0.29943883, -1.23800814, -1.19719096, -0.87610458,\n",
              "        1.32449542,  0.11482242, -0.69397204, -1.14985134, -1.44803924,\n",
              "        1.2513745 , -0.05402388,  0.27817108, -1.09167481, -0.07813255,\n",
              "        0.66509947, -0.87179028, -0.73096124,  1.20344468, -2.19696828,\n",
              "       -0.89653714, -0.02887199,  0.6807895 , -0.23179684,  0.29333382,\n",
              "       -0.32331533, -0.99056976, -0.82813703,  1.16483379,  0.30115315,\n",
              "       -1.47260176,  1.56558632,  0.75622937,  1.4477658 , -0.07473146,\n",
              "        0.28069221,  0.95465223,  0.92115623, -1.37954973, -3.00415368,\n",
              "       -1.32799161, -0.73836431,  0.92669788, -0.15968913, -0.26566851,\n",
              "        0.09081987,  0.12954349, -0.92615054,  1.5657915 , -2.01133996,\n",
              "        0.0182609 ,  0.09385838,  1.19502568,  0.15497422, -0.34652844,\n",
              "        1.17201414,  0.55463641, -0.14681309,  0.1602763 ,  0.63477687,\n",
              "        1.75919613,  1.97939377,  0.37525127,  1.37199492,  0.63058643,\n",
              "        0.55195789, -0.47579583,  1.78249966, -0.71417117,  0.15542193,\n",
              "       -0.62818799,  0.30827743,  0.78864732,  1.61398944,  0.49763339,\n",
              "        2.38020942,  0.53912435,  0.7515335 , -2.39398837, -0.13156622,\n",
              "        0.24710062, -0.04278054,  0.92848804, -0.0299667 ,  2.49542754,\n",
              "       -0.86286981,  1.15323476,  0.13888015,  0.18743685,  0.10820825,\n",
              "        1.1201383 ,  0.58160653, -0.17448254,  1.12806096,  0.37078335])"
            ]
          },
          "metadata": {},
          "execution_count": 71
        }
      ]
    },
    {
      "cell_type": "code",
      "source": [
        "PDF(x)"
      ],
      "metadata": {
        "colab": {
          "base_uri": "https://localhost:8080/"
        },
        "id": "SVyeXTDNTEsH",
        "outputId": "239b4ce8-8fbf-4acc-e959-a156813f0811"
      },
      "execution_count": null,
      "outputs": [
        {
          "output_type": "execute_result",
          "data": {
            "text/plain": [
              "array([0.05153229, 0.12075131, 0.28307702, 0.09728856, 0.37352756,\n",
              "       0.34661504, 0.38145197, 0.18539426, 0.19484096, 0.27179202,\n",
              "       0.1659477 , 0.39632106, 0.3135686 , 0.20597148, 0.13982728,\n",
              "       0.18233537, 0.39836053, 0.38380214, 0.21984875, 0.39772643,\n",
              "       0.31978155, 0.27281873, 0.30541288, 0.19338387, 0.03571183,\n",
              "       0.26691422, 0.39877604, 0.31642289, 0.38836742, 0.38214281,\n",
              "       0.37862654, 0.2442525 , 0.28313145, 0.20243075, 0.38125565,\n",
              "       0.13490068, 0.11713024, 0.29972798, 0.13988265, 0.39782983,\n",
              "       0.38353186, 0.25293595, 0.26100834, 0.15404396, 0.00437693,\n",
              "       0.16518002, 0.30375633, 0.25967537, 0.39388793, 0.38510918,\n",
              "       0.39730038, 0.39560886, 0.25980708, 0.11709262, 0.05277684,\n",
              "       0.39887577, 0.39718892, 0.19534624, 0.39418023, 0.37569429,\n",
              "       0.20073953, 0.34206678, 0.39466595, 0.39385094, 0.32614625,\n",
              "       0.08489636, 0.05625061, 0.37182005, 0.1556534 , 0.32701208,\n",
              "       0.3425741 , 0.35624757, 0.08146425, 0.3091407 , 0.39415284,\n",
              "       0.3275061 , 0.38042888, 0.29231572, 0.10845505, 0.35248119,\n",
              "       0.02347928, 0.34498095, 0.30079093, 0.02271957, 0.3955044 ,\n",
              "       0.38694687, 0.39857738, 0.25924452, 0.39876319, 0.01772963,\n",
              "       0.27493772, 0.20517054, 0.39511343, 0.39199554, 0.39661349,\n",
              "       0.21303614, 0.33686548, 0.39291554, 0.2111473 , 0.37244024])"
            ]
          },
          "metadata": {},
          "execution_count": 72
        }
      ]
    },
    {
      "cell_type": "markdown",
      "source": [
        "# 9) Create a program to calculate the cumulative distribution function (CDF) of exponential distribution."
      ],
      "metadata": {
        "id": "FL6dJdVITZwZ"
      }
    },
    {
      "cell_type": "code",
      "source": [
        "from scipy.stats import norm\n",
        "def CDF(num):\n",
        "    pdf = norm.pdf(num)\n",
        "    return np.cumsum(pdf)"
      ],
      "metadata": {
        "id": "EQQ2VK5rV52k"
      },
      "execution_count": null,
      "outputs": []
    },
    {
      "cell_type": "code",
      "source": [
        "exponential = np.random.exponential(size = 100)\n",
        "exponential"
      ],
      "metadata": {
        "colab": {
          "base_uri": "https://localhost:8080/"
        },
        "id": "yL-Wl-QCThQ-",
        "outputId": "f80e6a1e-ce49-49d9-f963-2b372a5c139a"
      },
      "execution_count": null,
      "outputs": [
        {
          "output_type": "execute_result",
          "data": {
            "text/plain": [
              "array([0.74344545, 0.19432734, 0.29861061, 0.68018474, 2.36527873,\n",
              "       1.01299473, 0.62968988, 0.2396813 , 0.80472953, 0.05756905,\n",
              "       1.99400052, 1.56009101, 1.48927577, 0.06744169, 1.86576444,\n",
              "       1.08337029, 0.82421147, 4.91898751, 0.28376958, 0.49994552,\n",
              "       0.41020652, 0.20252657, 2.85354457, 0.49114052, 0.3008864 ,\n",
              "       0.18744515, 0.57483087, 0.81113092, 0.10372337, 0.25406797,\n",
              "       0.98530465, 0.18361516, 2.68772124, 1.75978577, 1.4994931 ,\n",
              "       0.52075927, 1.58827156, 0.26801942, 0.22173011, 0.59733446,\n",
              "       0.75134759, 1.70058297, 2.48448433, 1.74713714, 0.3088426 ,\n",
              "       0.02857649, 0.18052087, 0.02427452, 4.01612358, 0.19898719,\n",
              "       0.75484727, 0.37291444, 0.36050451, 2.58711646, 1.21261553,\n",
              "       0.30823385, 0.06117415, 2.31127793, 0.69080412, 2.02529393,\n",
              "       0.11556786, 2.69259287, 5.38290392, 3.2628963 , 0.30416694,\n",
              "       0.07096868, 0.68572289, 0.61986054, 0.69987633, 0.39918479,\n",
              "       1.7826689 , 3.06954928, 0.49543072, 1.5820392 , 1.32338138,\n",
              "       0.49107608, 0.62197591, 2.43353315, 1.1886072 , 1.68922312,\n",
              "       0.68138188, 0.51615763, 3.40097369, 1.90604504, 1.39852312,\n",
              "       0.87650068, 0.06969771, 2.34518833, 0.39322507, 0.28199338,\n",
              "       0.43718399, 0.8532706 , 0.49208335, 0.79883459, 0.30046856,\n",
              "       0.06865827, 0.06924774, 0.3478257 , 0.14984561, 1.6100711 ])"
            ]
          },
          "metadata": {},
          "execution_count": 73
        }
      ]
    },
    {
      "cell_type": "code",
      "source": [
        "CDF(exponential)"
      ],
      "metadata": {
        "colab": {
          "base_uri": "https://localhost:8080/"
        },
        "id": "TUsG6FPpWnwv",
        "outputId": "7bf3861a-1b3a-44fe-dbef-ee3a89bd9838"
      },
      "execution_count": null,
      "outputs": [
        {
          "output_type": "execute_result",
          "data": {
            "text/plain": [
              "array([ 0.30261494,  0.69409524,  1.07564169,  1.39219482,  1.4165208 ,\n",
              "        1.65534736,  1.98254424,  2.37019049,  2.6587848 ,  3.05706654,\n",
              "        3.11170826,  3.22984878,  3.36145912,  3.75949516,  3.82947998,\n",
              "        4.05132325,  4.33537444,  4.33537666,  4.71857556,  5.07065047,\n",
              "        5.43740107,  5.82824497,  5.83504862,  6.18866308,  6.56994934,\n",
              "        6.96194427,  7.30013211,  7.5872377 ,  7.98403973,  8.37031161,\n",
              "        8.61583792,  9.00811149,  9.01888289,  9.10369122,  9.23330731,\n",
              "        9.58166216,  9.69467636, 10.07954402, 10.46879901, 10.80255579,\n",
              "       11.10338874, 11.19734464, 11.21556402, 11.30227432, 11.68263686,\n",
              "       12.08141629, 12.47391092, 12.87273567, 12.87286113, 13.26398284,\n",
              "       13.56402397, 13.93616919, 14.31001184, 14.32405634, 14.5153096 ,\n",
              "       14.8957436 , 15.2939401 , 15.32154005, 15.63579719, 15.68710839,\n",
              "       16.08339542, 16.09402658, 16.09402678, 16.09597238, 16.47688042,\n",
              "       16.87481932, 17.19017741, 17.51938984, 17.8316708 , 18.20006092,\n",
              "       18.2815006 , 18.28508916, 18.63795606, 18.75209229, 18.91828493,\n",
              "       19.27191059, 19.60069088, 19.62134212, 19.81818841, 19.91397085,\n",
              "       20.2302661 , 20.57945303, 20.58068118, 20.64554649, 20.79558369,\n",
              "       21.06728138, 21.46525585, 21.49076055, 21.86002157, 22.24341305,\n",
              "       22.60599547, 22.88320715, 23.23665775, 23.52661932, 23.90795349,\n",
              "       24.30595658, 24.70394349, 25.07946862, 25.47395708, 25.58309935])"
            ]
          },
          "metadata": {},
          "execution_count": 75
        }
      ]
    },
    {
      "cell_type": "markdown",
      "source": [
        "# 10) Write a Python function to calculate the probability mass function (PMF) of Poisson distribution."
      ],
      "metadata": {
        "id": "cqXsNVsjW0-0"
      }
    },
    {
      "cell_type": "code",
      "source": [
        "import math\n",
        "\n",
        "def poisson_pmf(k, lambd):\n",
        "    if k < 0:\n",
        "        return 0\n",
        "    return (math.exp(-lambd) * lambd**k) / math.factorial(k)\n",
        "\n",
        "mean_rate = 3.5\n",
        "specific_value = 2\n",
        "pmf_value = poisson_pmf(specific_value, mean_rate)\n",
        "print(f\"PMF for X = {specific_value}: {pmf_value:.6f}\")"
      ],
      "metadata": {
        "colab": {
          "base_uri": "https://localhost:8080/"
        },
        "id": "3G8C1aHHfrc6",
        "outputId": "4326b21f-5709-4afd-d0fc-3877ad3dbea6"
      },
      "execution_count": null,
      "outputs": [
        {
          "output_type": "stream",
          "name": "stdout",
          "text": [
            "PMF for X = 2: 0.184959\n"
          ]
        }
      ]
    },
    {
      "cell_type": "markdown",
      "source": [
        "# 11. A company wants to test if a new website layout leads to a higher conversion rate (percentage of visitors who make a purchase). They collect data from the old and new layouts to compare."
      ],
      "metadata": {
        "id": "wl2mVx8C7yun"
      }
    },
    {
      "cell_type": "code",
      "source": [
        "import numpy as np\n",
        "\n",
        "# 50 purchases out of 1000 visitors\n",
        "\n",
        "old_layout = np.array([1] * 50 + [0] * 950)\n",
        "\n",
        "# 70 purchases out of 1000 visitors\n",
        "\n",
        "new_layout = np.array([1] * 70 + [0] * 930)"
      ],
      "metadata": {
        "id": "uRyKL2wm8Jbm"
      },
      "execution_count": null,
      "outputs": []
    },
    {
      "cell_type": "code",
      "source": [
        "'''\n",
        "We want to test the null hypothesis (H₀) that there is no significant difference in the conversion\n",
        "rates between the old and new layouts. The alternative hypothesis (H₁) is that the new layout has\n",
        "a higher conversion rate.\n",
        "'''"
      ],
      "metadata": {
        "id": "Y9gRy9ekFhTp"
      },
      "execution_count": null,
      "outputs": []
    },
    {
      "cell_type": "code",
      "source": [
        "import numpy as np\n",
        "from scipy.stats import norm\n",
        "\n",
        "# Given data\n",
        "old_purchases = 50\n",
        "old_visitors = 1000\n",
        "new_purchases = 70\n",
        "new_visitors = 1000\n",
        "\n",
        "# Calculate sample proportions\n",
        "p_old = old_purchases / old_visitors\n",
        "p_new = new_purchases / new_visitors\n",
        "\n",
        "# Calculate the pooled proportion\n",
        "p_pooled = (old_purchases + new_purchases) / (old_visitors + new_visitors)\n",
        "\n",
        "# Calculate the standard error\n",
        "SE = np.sqrt(p_pooled * (1 - p_pooled) * (1 / old_visitors + 1 / new_visitors))\n",
        "\n",
        "# Calculate the z-score\n",
        "z = (p_new - p_old) / SE\n",
        "\n",
        "# Set the significance level (alpha)\n",
        "alpha = 0.05\n",
        "\n",
        "# Find the critical z-value for a two-tailed test\n",
        "critical_z = norm.ppf(1 - alpha / 2)\n",
        "\n",
        "# Compare the z-score with the critical value\n",
        "if abs(z) > critical_z:\n",
        "    # Reject the null hypothesis (H₀) in favor of the alternative hypothesis (H₁)\n",
        "    result = \"significant\"\n",
        "else:\n",
        "    # Fail to reject the null hypothesis\n",
        "\n",
        "    result = \"not significant\"\n",
        "\n",
        "print(f\"Z-score: {z:.4f}\")\n",
        "print(f\"Critical Z-value: {critical_z:.4f}\")\n",
        "print(f\"Conclusion: The difference in conversion rates is {result}.\")"
      ],
      "metadata": {
        "colab": {
          "base_uri": "https://localhost:8080/"
        },
        "id": "5o-bSd36-Jxs",
        "outputId": "92e398ab-3add-4ef0-e2df-4329b6a3229c"
      },
      "execution_count": null,
      "outputs": [
        {
          "output_type": "stream",
          "name": "stdout",
          "text": [
            "Z-score: 1.8831\n",
            "Critical Z-value: 1.9600\n",
            "Conclusion: The difference in conversion rates is not significant.\n"
          ]
        }
      ]
    },
    {
      "cell_type": "markdown",
      "source": [
        "# 12. A tutoring service claims that its program improves students exam scores. A sample of students who participated in the program was taken, and their scores before and after the program were recorded."
      ],
      "metadata": {
        "id": "gYXq3F4D0vCX"
      }
    },
    {
      "cell_type": "code",
      "source": [
        "'''\n",
        "The null hypothesis ((H_0)) is that there is no improvement in scores after the program\n",
        "(i.e., the mean difference is zero). The alternative hypothesis ((H_1)) is that there is a significant\n",
        "improvement (i.e., the mean difference is not zero).\n",
        "'''\n"
      ],
      "metadata": {
        "id": "jaR928MV3OLH"
      },
      "execution_count": null,
      "outputs": []
    },
    {
      "cell_type": "code",
      "source": [
        "import numpy as np\n",
        "from scipy import stats\n",
        "\n",
        "# Given data\n",
        "before_program = np.array([75, 80, 85, 70, 90, 78, 92, 88, 82, 87])\n",
        "after_program = np.array([80, 85, 90, 80, 92, 80, 95, 90, 85, 88])\n",
        "\n",
        "# Calculate mean difference\n",
        "d_bar = np.mean(after_program - before_program)\n",
        "\n",
        "# Calculate standard deviation of differences\n",
        "s_d = np.std(after_program - before_program, ddof=1)\n",
        "\n",
        "# Calculate sample size\n",
        "n = len(before_program)\n",
        "\n",
        "# Calculate z-score\n",
        "z = d_bar / (s_d / np.sqrt(n))\n",
        "\n",
        "# Set significance level (alpha)\n",
        "alpha = 0.05\n",
        "\n",
        "# Calculate critical z-value (two-tailed test)\n",
        "critical_z = stats.norm.ppf(1 - alpha/2)\n",
        "\n",
        "# Compare z-score with critical z-value\n",
        "if np.abs(z) > critical_z:\n",
        "    print(\"Reject the null hypothesis: There is a significant improvement.\")\n",
        "else:\n",
        "    print(\"Fail to reject the null hypothesis: No significant improvement.\")\n"
      ],
      "metadata": {
        "colab": {
          "base_uri": "https://localhost:8080/"
        },
        "id": "JFPyZD3D2Kob",
        "outputId": "6acd214c-bb66-4a1a-f817-2bf7c8611ae0"
      },
      "execution_count": 2,
      "outputs": [
        {
          "output_type": "stream",
          "name": "stdout",
          "text": [
            "Reject the null hypothesis: There is a significant improvement.\n"
          ]
        }
      ]
    },
    {
      "cell_type": "markdown",
      "source": [
        "#13. A pharmaceutical company wants to determine if a new drug is effective in reducing blood pressure. They conduct a study and record blood pressure measurements before and after administering the drug."
      ],
      "metadata": {
        "id": "yzwy467L386a"
      }
    },
    {
      "cell_type": "code",
      "source": [
        "'''\n",
        "The null hypothesis ((H_0)) is that there is no effective in reducing blood pressure after the administering of drug.\n",
        "(i.e., the mean difference is zero). The alternative hypothesis ((H_1)) is that there is a effective in\n",
        "reducing blood pressure (i.e., the mean difference is not zero).\n",
        "'''"
      ],
      "metadata": {
        "id": "GRj4Ftw04o1f"
      },
      "execution_count": null,
      "outputs": []
    },
    {
      "cell_type": "code",
      "source": [
        "before_drug = np.array([145, 150, 140, 135, 155, 160, 152, 148, 130, 138])\n",
        "\n",
        "after_drug = np.array([130, 140, 132, 128, 145, 148, 138, 136, 125, 130])\n",
        "\n",
        "# Calculate mean difference\n",
        "d_bar = np.mean(after_drug - before_drug)\n",
        "\n",
        "# Calculate standard deviation of differences\n",
        "s_d = np.std(after_drug - before_drug, ddof=1)\n",
        "\n",
        "# Calculate sample size\n",
        "n = len(before_drug)\n",
        "\n",
        "# Calculate z-score\n",
        "z = d_bar / (s_d / np.sqrt(n))\n",
        "\n",
        "# Set significance level (alpha)\n",
        "alpha = 0.05\n",
        "\n",
        "# Calculate critical z-value (two-tailed test)\n",
        "critical_z = stats.norm.ppf(1 - alpha/2)\n",
        "\n",
        "# Compare z-score with critical z-value\n",
        "if np.abs(z) > critical_z:\n",
        "    print(\"Reject the null hypothesis: It is effectiveness.\")\n",
        "else:\n",
        "    print(\"Fail to reject the null hypothesis: No effectiveness.\")"
      ],
      "metadata": {
        "colab": {
          "base_uri": "https://localhost:8080/"
        },
        "id": "Lqw--gWj4VRQ",
        "outputId": "aa77f11f-ac6d-45dd-a382-fe5c3ebb6589"
      },
      "execution_count": 4,
      "outputs": [
        {
          "output_type": "stream",
          "name": "stdout",
          "text": [
            "Reject the null hypothesis: It is effectiveness.\n"
          ]
        }
      ]
    },
    {
      "cell_type": "markdown",
      "source": [
        "#14. A customer service department claims that their average response time is less than 5 minutes. A sample of recent customer interactions was taken, and the response times were recorded."
      ],
      "metadata": {
        "id": "WoOpRgo37dZy"
      }
    },
    {
      "cell_type": "code",
      "source": [
        "# 1. Null Hypothesis (H0): The average response time is less than 5 minutes.\n",
        "# 2. Alternative Hypothesis (H1): The average response time is equal to or greater than 5 minutes.\n",
        "# 3. Significance level (α): 0.05."
      ],
      "metadata": {
        "id": "kZRlP_er8fFf"
      },
      "execution_count": null,
      "outputs": []
    },
    {
      "cell_type": "code",
      "source": [
        "from scipy.stats import norm\n",
        "\n",
        "response_times = np.array([4.3, 3.8, 5.1, 4.9, 4.7, 4.2, 5.2, 4.5, 4.6, 4.4])\n",
        "\n",
        "# Population mean (claimed average response time)\n",
        "mu = 5  # minutes\n",
        "\n",
        "#calculate mean and standard deviation\n",
        "sample_mean = np.mean(response_times)\n",
        "sample_std = np.std(response_times)\n",
        "\n",
        "#calculate sample size\n",
        "n = len(response_times)\n",
        "\n",
        "#calculate z score\n",
        "z = (sample_mean - mu) / (sample_std / np.sqrt(n))\n",
        "\n",
        "# Calculate p-value (one-tailed test)\n",
        "p_value = norm.cdf(z)\n",
        "\n",
        "# Set significance level (α)\n",
        "alpha = 0.05\n",
        "\n",
        "# Compare p-value with significance level\n",
        "if p_value < alpha:\n",
        "    print(f\"Reject the null hypothesis. Average response time is less than 5 minutes (p-value = {p_value:.4f})\")\n",
        "else:\n",
        "    print(f\"Fail to reject the null hypothesis. Average response time is equal to or greater than 5 minutes (p-value = {p_value:.4f})\")"
      ],
      "metadata": {
        "colab": {
          "base_uri": "https://localhost:8080/"
        },
        "id": "3CSuCc-q71gO",
        "outputId": "9c1ef771-c445-49fe-babd-e3276d06ca39"
      },
      "execution_count": 10,
      "outputs": [
        {
          "output_type": "stream",
          "name": "stdout",
          "text": [
            "Reject the null hypothesis. Average response time is less than 5 minutes (p-value = 0.0004)\n"
          ]
        }
      ]
    },
    {
      "cell_type": "markdown",
      "source": [
        "# 15. A company is testing two different website layouts to see which one leads to higher click-through rates. Write a Python function to perform an A/B test analysis, including calculating the t-statistic, degrees of freedom, and p-value."
      ],
      "metadata": {
        "id": "4n_rOL5C_kby"
      }
    },
    {
      "cell_type": "code",
      "source": [
        "import numpy as np\n",
        "from scipy import stats\n",
        "\n",
        "def ab_test(layout_a_clicks, layout_b_clicks):\n",
        "    # Calculate means and standard deviations\n",
        "    mean_a = np.mean(layout_a_clicks)\n",
        "    mean_b = np.mean(layout_b_clicks)\n",
        "    std_a = np.std(layout_a_clicks, ddof=1)\n",
        "    std_b = np.std(layout_b_clicks, ddof=1)\n",
        "\n",
        "    # Calculate pooled standard deviation\n",
        "    pooled_std = np.sqrt((std_a**2 + std_b**2) / 2)\n",
        "\n",
        "    # Calculate t-statistic\n",
        "    t_statistic = (mean_a - mean_b) / (pooled_std * np.sqrt(2/len(layout_a_clicks)))\n",
        "\n",
        "    # Calculate degrees of freedom\n",
        "    df = len(layout_a_clicks) + len(layout_b_clicks) - 2\n",
        "\n",
        "    # Calculate p-value (two-tailed test)\n",
        "    p_value = 2 * (1 - stats.t.cdf(np.abs(t_statistic), df))\n",
        "\n",
        "    return t_statistic, df, p_value\n",
        "\n",
        "# Example usage\n",
        "layout_a_clicks = [28, 32, 33, 29, 31, 34, 30, 35, 36, 37]\n",
        "layout_b_clicks = [40, 41, 38, 42, 39, 44, 43, 41, 45, 47]\n",
        "\n",
        "t_stat, degrees_of_freedom, p_val = ab_test(layout_a_clicks, layout_b_clicks)\n",
        "print(f\"T-statistic: {t_stat:.4f}\")\n",
        "print(f\"Degrees of Freedom: {degrees_of_freedom}\")\n",
        "print(f\"P-value: {p_val:.4f}\")"
      ],
      "metadata": {
        "colab": {
          "base_uri": "https://localhost:8080/"
        },
        "id": "S8SBOIldAT5Q",
        "outputId": "7c9fcca9-9f80-44cf-d2fe-f8adc6194673"
      },
      "execution_count": 12,
      "outputs": [
        {
          "output_type": "stream",
          "name": "stdout",
          "text": [
            "T-statistic: -7.2981\n",
            "Degrees of Freedom: 18\n",
            "P-value: 0.0000\n"
          ]
        }
      ]
    },
    {
      "cell_type": "markdown",
      "source": [
        "#16. A pharmaceutical company wants to determine if a new drug is more effective than an existing drug in reducing cholesterol levels. Create a program to analyze the clinical trial data and calculate the t-statistic and p-value for the treatment effect."
      ],
      "metadata": {
        "id": "NCUKyUwvBYqz"
      }
    },
    {
      "cell_type": "code",
      "source": [
        "# Null Hypothesis: The new drug is not more effective than the existing drug in reducing cholesterol levels.\n",
        "# Alternative Hypothesis: The new drug is more effective than the existing drug in reducing cholesterol levels."
      ],
      "metadata": {
        "id": "TrGari7UEUQR"
      },
      "execution_count": null,
      "outputs": []
    },
    {
      "cell_type": "code",
      "source": [
        "import numpy as np\n",
        "import scipy.stats as stats\n",
        "\n",
        "existing_drug_levels = [180, 182, 175, 185, 178, 176, 172, 184, 179, 183]\n",
        "new_drug_levels = [170, 172, 165, 168, 175, 173, 170, 178, 172, 176]\n",
        "\n",
        "# Calculate sample means and standard deviations\n",
        "mean_new = np.mean(new_drug_levels)\n",
        "mean_existing = np.mean(existing_drug_levels)\n",
        "std_new = np.std(new_drug_levels, ddof=1)\n",
        "std_existing = np.std(existing_drug_levels, ddof=1)\n",
        "\n",
        "# Calculate t-statistic\n",
        "t_statistic = (mean_new - mean_existing) / np.sqrt((std_new**2 / len(new_drug_levels)) + (std_existing**2 / len(existing_drug_levels)))\n",
        "\n",
        "# Calculate degrees of freedom\n",
        "df = len(new_drug_levels) + len(existing_drug_levels) - 2\n",
        "\n",
        "# Calculate p-value\n",
        "p_value = 2 * (1 - stats.t.cdf(np.abs(t_statistic), df))\n",
        "\n",
        "print(f\"T-Statistic: {t_statistic:.4f}\")\n",
        "print(f\"P-Value: {p_value:.4f}\")"
      ],
      "metadata": {
        "colab": {
          "base_uri": "https://localhost:8080/"
        },
        "id": "aaEYJotUBYan",
        "outputId": "297e7b95-e5a5-41d3-b2cd-bc750c4de0d4"
      },
      "execution_count": 13,
      "outputs": [
        {
          "output_type": "stream",
          "name": "stdout",
          "text": [
            "T-Statistic: -4.1405\n",
            "P-Value: 0.0006\n"
          ]
        }
      ]
    },
    {
      "cell_type": "markdown",
      "source": [
        "#17. A school district introduces an educational intervention program to improve math scores. Write a Python function to analyze pre- and post-intervention test scores, calculating the t-statistic and p-value to determine if the intervention had a significant impact."
      ],
      "metadata": {
        "id": "1JR42zUVDu_X"
      }
    },
    {
      "cell_type": "code",
      "source": [
        "import numpy as np\n",
        "import scipy.stats as stats\n",
        "\n",
        "def analyze_intervention(pre_scores, post_scores):\n",
        "    # Calculate mean difference\n",
        "    mean_diff = np.mean(post_scores) - np.mean(pre_scores)\n",
        "\n",
        "    # Calculate standard deviation of differences\n",
        "    diffs = np.array(post_scores) - np.array(pre_scores)\n",
        "    std_dev = np.std(diffs, ddof=1)  # ddof=1 for sample standard deviation\n",
        "\n",
        "    # Calculate t-statistic\n",
        "    n = len(pre_scores)\n",
        "    t_statistic = mean_diff / (std_dev / np.sqrt(n))\n",
        "\n",
        "    # Calculate p-value (two-tailed test)\n",
        "    df = n - 1\n",
        "    p_value = 2 * (1 - stats.t.cdf(np.abs(t_statistic), df))\n",
        "\n",
        "    return t_statistic, p_value\n",
        "\n",
        "pre_intervention_scores = [80, 85, 90, 75, 88, 82, 92, 78, 85, 87]\n",
        "post_intervention_scores = [90, 92, 88, 92, 95, 91, 96, 93, 89, 93]\n",
        "\n",
        "t_stat, p_val = analyze_intervention(pre_intervention_scores, post_intervention_scores)\n",
        "print(f\"T-statistic: {t_stat:.4f}\")\n",
        "print(f\"P-value: {p_val:.4f}\")\n",
        "\n",
        "# Interpretation\n",
        "alpha = 0.05\n",
        "if p_val < alpha:\n",
        "    print(\"Reject the null hypothesis. The intervention had a significant impact.\")\n",
        "else:\n",
        "    print(\"Fail to reject the null hypothesis. No significant impact observed.\")\n"
      ],
      "metadata": {
        "colab": {
          "base_uri": "https://localhost:8080/"
        },
        "id": "gcW5ZBehFHqR",
        "outputId": "e5dac0d1-3053-4711-bbcd-d602b03a6125"
      },
      "execution_count": 14,
      "outputs": [
        {
          "output_type": "stream",
          "name": "stdout",
          "text": [
            "T-statistic: 4.4284\n",
            "P-value: 0.0017\n",
            "Reject the null hypothesis. The intervention had a significant impact.\n"
          ]
        }
      ]
    },
    {
      "cell_type": "markdown",
      "source": [
        "#18. An HR department wants to investigate if there's a gender-based salary gap within the company. Develop a program to analyze salary data, calculate the t-statistic, and determine if there's a statistically significant difference between the average salaries of male and female employees."
      ],
      "metadata": {
        "id": "sPJ3ru_dGnGG"
      }
    },
    {
      "cell_type": "code",
      "source": [
        "# Our null hypothesis ((H_0)) is that there’s no significant difference in average salaries between genders.\n",
        "# The alternative hypothesis ((H_1)) is that there is a significant difference."
      ],
      "metadata": {
        "id": "sOewQJ2GI41u"
      },
      "execution_count": null,
      "outputs": []
    },
    {
      "cell_type": "code",
      "source": [
        "# Generate synthetic salary data for male and female employees\n",
        "\n",
        "np.random.seed(0)  # For reproducibility\n",
        "\n",
        "male_salaries = np.random.normal(loc=50000, scale=10000, size=20)\n",
        "\n",
        "female_salaries = np.random.normal(loc=55000, scale=9000, size=20)"
      ],
      "metadata": {
        "id": "BTaep638GmEy"
      },
      "execution_count": 15,
      "outputs": []
    },
    {
      "cell_type": "code",
      "source": [
        "import numpy as np\n",
        "from scipy import stats\n",
        "\n",
        "# Perform two-sample t-test\n",
        "t_statistic, p_value = stats.ttest_ind(male_salaries, female_salaries)\n",
        "\n",
        "# Degrees of freedom\n",
        "n1, n2 = len(male_salaries), len(female_salaries)\n",
        "df = n1 + n2 - 2\n",
        "\n",
        "# Significance level (alpha)\n",
        "alpha = 0.05\n",
        "\n",
        "# Decision based on p-value\n",
        "if p_value < alpha:\n",
        "    result = \"reject the null hypothesis\"\n",
        "else:\n",
        "    result = \"fail to reject the null hypothesis\"\n",
        "\n",
        "# Print results\n",
        "print(f\"t-statistic: {t_statistic:.4f}\")\n",
        "print(f\"p-value: {p_value:.4f}\")\n",
        "print(f\"Degrees of freedom: {df}\")\n",
        "print(f\"Conclusion: We {result} (significant difference exists).\")\n"
      ],
      "metadata": {
        "colab": {
          "base_uri": "https://localhost:8080/"
        },
        "id": "1kogxKhCIlfS",
        "outputId": "e28fbce1-6f76-4815-b639-0eccb5b6173c"
      },
      "execution_count": 16,
      "outputs": [
        {
          "output_type": "stream",
          "name": "stdout",
          "text": [
            "t-statistic: 0.0611\n",
            "p-value: 0.9516\n",
            "Degrees of freedom: 38\n",
            "Conclusion: We fail to reject the null hypothesis (significant difference exists).\n"
          ]
        }
      ]
    },
    {
      "cell_type": "markdown",
      "source": [
        "#19. A manufacturer produces two different versions of a product and wants to compare their quality scores. Create a Python function to analyze quality assessment data, calculate the t-statistic, and decide whether there's a significant difference in quality between the two versions."
      ],
      "metadata": {
        "id": "TfKzu3RlJHUi"
      }
    },
    {
      "cell_type": "code",
      "source": [
        "# Null Hypothesis (H0): There is no significant difference in quality between the two versions (i.e., the mean quality scores are equal).\n",
        "# Alternative Hypothesis (H1): There is a significant difference in quality between the two versions (i.e., the mean quality scores are not equal)."
      ],
      "metadata": {
        "id": "vrz3jjY6KKAC"
      },
      "execution_count": null,
      "outputs": []
    },
    {
      "cell_type": "code",
      "source": [
        "version1_scores = [85, 88, 82, 89, 87, 84, 90, 88, 85, 86, 91, 83, 87, 84, 89, 86, 84, 88, 85, 86, 89, 90, 87, 88, 85]\n",
        "\n",
        "version2_scores = [80, 78, 83, 81, 79, 82, 76, 80, 78, 81, 77, 82, 80, 79, 82, 79, 80, 81, 79, 82, 79, 78, 80, 81, 82]"
      ],
      "metadata": {
        "id": "iqC_rlEhJZi0"
      },
      "execution_count": 17,
      "outputs": []
    },
    {
      "cell_type": "code",
      "source": [
        "import numpy as np\n",
        "import scipy.stats as stats\n",
        "\n",
        "def compare_quality(version1_scores, version2_scores):\n",
        "    n1 = len(version1_scores)\n",
        "    n2 = len(version2_scores)\n",
        "    mean1 = np.mean(version1_scores)\n",
        "    mean2 = np.mean(version2_scores)\n",
        "    std1 = np.std(version1_scores, ddof=1)\n",
        "    std2 = np.std(version2_scores, ddof=1)\n",
        "\n",
        "    # Calculate t-statistic\n",
        "    t_statistic = (mean1 - mean2) / np.sqrt((std1**2 / n1) + (std2**2 / n2))\n",
        "\n",
        "    # Calculate degrees of freedom\n",
        "    df = n1 + n2 - 2\n",
        "\n",
        "    # Two-tailed t-test\n",
        "    p_value = 2 * (1 - stats.t.cdf(np.abs(t_statistic), df))\n",
        "\n",
        "    return t_statistic, p_value\n",
        "\n",
        "\n",
        "t_stat, p_val = compare_quality(version1_scores, version2_scores)\n",
        "print(f\"T-statistic: {t_stat:.4f}\")\n",
        "print(f\"P-value: {p_val:.4f}\")\n",
        "\n",
        "# Decide based on p-value\n",
        "alpha = 0.05\n",
        "if p_val < alpha:\n",
        "    print(\"Reject the null hypothesis: There is a significant difference in quality.\")\n",
        "else:\n",
        "    print(\"Fail to reject the null hypothesis: No significant difference in quality.\")\n"
      ],
      "metadata": {
        "colab": {
          "base_uri": "https://localhost:8080/"
        },
        "id": "mRM1eeRaJ-9L",
        "outputId": "b32b6fe0-00d1-4df4-f423-09288afc7c1d"
      },
      "execution_count": 18,
      "outputs": [
        {
          "output_type": "stream",
          "name": "stdout",
          "text": [
            "T-statistic: 11.3258\n",
            "P-value: 0.0000\n",
            "Reject the null hypothesis: There is a significant difference in quality.\n"
          ]
        }
      ]
    },
    {
      "cell_type": "markdown",
      "source": [
        "# 20. A restaurant chain collects customer satisfaction scores for two different branches. Write a program to analyze the scores, calculate the t-statistic, and determine if there's a statistically significant difference in customer satisfaction between the branches."
      ],
      "metadata": {
        "id": "CGtRGOqFK7wl"
      }
    },
    {
      "cell_type": "code",
      "source": [
        "# Null Hypothesis (H0): There is no significant difference in customer satisfaction scores between the two branches.\n",
        "# Alternative Hypothesis (Ha): There is a significant difference in customer satisfaction scores between the two branches."
      ],
      "metadata": {
        "id": "wH6l-X1UPjUe"
      },
      "execution_count": null,
      "outputs": []
    },
    {
      "cell_type": "code",
      "source": [
        "branch_a_scores = [4, 5, 3, 4, 5, 4, 5, 3, 4, 4, 5, 4, 4, 3, 4, 5, 5, 4, 3, 4, 5, 4, 3, 5, 4, 4, 5, 3, 4, 5, 4]\n",
        "\n",
        "branch_b_scores = [3, 4, 2, 3, 4, 3, 4, 2, 3, 3, 4, 3, 3, 2, 3, 4, 4, 3, 2, 3, 4, 3, 2, 4, 3, 3, 4, 2, 3, 4, 3]"
      ],
      "metadata": {
        "id": "Ivj1C1svO8K7"
      },
      "execution_count": 19,
      "outputs": []
    },
    {
      "cell_type": "code",
      "source": [
        "import numpy as np\n",
        "from scipy import stats\n",
        "\n",
        "# Calculate sample means and standard deviations\n",
        "mean_a = np.mean(branch_a_scores)\n",
        "mean_b = np.mean(branch_b_scores)\n",
        "std_a = np.std(branch_a_scores, ddof=1)\n",
        "std_b = np.std(branch_b_scores, ddof=1)\n",
        "\n",
        "# Calculate t-statistic\n",
        "t_statistic = (mean_a - mean_b) / np.sqrt((std_a**2 / len(branch_a_scores)) + (std_b**2 / len(branch_b_scores)))\n",
        "\n",
        "# Calculate degrees of freedom\n",
        "df = len(branch_a_scores) + len(branch_b_scores) - 2\n",
        "\n",
        "# Calculate p-value\n",
        "p_value = 2 * (1 - stats.t.cdf(np.abs(t_statistic), df=df))\n",
        "\n",
        "# Check significance\n",
        "alpha = 0.05\n",
        "if p_value < alpha:\n",
        "    result = \"Reject the null hypothesis\"\n",
        "else:\n",
        "    result = \"Fail to reject the null hypothesis\"\n",
        "\n",
        "print(f\"T-Statistic: {t_statistic:.4f}\")\n",
        "print(f\"P-Value: {p_value:.4f}\")\n",
        "print(f\"Decision: {result}\")\n"
      ],
      "metadata": {
        "id": "IluGh00QPQMJ"
      },
      "execution_count": null,
      "outputs": []
    },
    {
      "cell_type": "markdown",
      "source": [
        "# 21. A political analyst wants to determine if there is a significant association between age groups and voter preferences (Candidate A or Candidate B). They collect data from a sample of 500 voters and classify them into different age groups and candidate preferences. Perform a Chi-Square test to determine if there is a significant association between age groups and voter preferences."
      ],
      "metadata": {
        "id": "asgVk8iwP7Q7"
      }
    },
    {
      "cell_type": "code",
      "source": [
        "np.random.seed(0)\n",
        "\n",
        "age_groups = np.random.choice([ '18-30', '31-50' , '51+', '51+'], size=30)\n",
        "\n",
        "voter_preferences = np.random.choice(['Candidate A', 'Candidate B'], size=30)"
      ],
      "metadata": {
        "id": "6n7LoUwJQmHX"
      },
      "execution_count": 20,
      "outputs": []
    },
    {
      "cell_type": "code",
      "source": [
        "import numpy as np\n",
        "import pandas as pd\n",
        "from scipy.stats import chi2_contingency\n",
        "\n",
        "# Create a DataFrame\n",
        "df = pd.DataFrame({'Age Group': age_groups, 'Voter Preference': voter_preferences})\n",
        "\n",
        "# Create a contingency table\n",
        "contingency_table = pd.crosstab(df['Age Group'], df['Voter Preference'])\n",
        "\n",
        "# Perform Chi-Square test\n",
        "chi2, p, dof, expected = chi2_contingency(contingency_table)\n",
        "\n",
        "# Print results\n",
        "print(\"Contingency Table:\")\n",
        "print(contingency_table)\n",
        "print(\"\\nChi-Square value:\", chi2)\n",
        "print(\"P-value:\", p)\n",
        "print(\"Degrees of Freedom:\", dof)\n",
        "print(\"\\nExpected Frequencies:\")\n",
        "print(pd.DataFrame(expected, index=contingency_table.index, columns=contingency_table.columns))\n"
      ],
      "metadata": {
        "colab": {
          "base_uri": "https://localhost:8080/"
        },
        "id": "mawA6qmsRNUa",
        "outputId": "1fb1ae53-f6f7-4d64-b8d8-64690ed2c666"
      },
      "execution_count": 21,
      "outputs": [
        {
          "output_type": "stream",
          "name": "stdout",
          "text": [
            "Contingency Table:\n",
            "Voter Preference  Candidate A  Candidate B\n",
            "Age Group                                 \n",
            "18-30                       2            6\n",
            "31-50                       4            4\n",
            "51+                         5            9\n",
            "\n",
            "Chi-Square value: 1.086807928913192\n",
            "P-value: 0.5807679703526951\n",
            "Degrees of Freedom: 2\n",
            "\n",
            "Expected Frequencies:\n",
            "Voter Preference  Candidate A  Candidate B\n",
            "Age Group                                 \n",
            "18-30                2.933333     5.066667\n",
            "31-50                2.933333     5.066667\n",
            "51+                  5.133333     8.866667\n"
          ]
        }
      ]
    },
    {
      "cell_type": "markdown",
      "source": [
        "# 22. A company conducted a customer satisfaction survey to determine if there is a significant relationship between product satisfaction levels (Satisfied, Neutral, Dissatisfied) and the region where customers are located (East, West, North, South). The survey data is summarized in a contingency table. Conduct a ChiSquare test to determine if there is a significant relationship between product satisfaction levels and customer regions."
      ],
      "metadata": {
        "id": "VNYMCQftSrfh"
      }
    },
    {
      "cell_type": "code",
      "source": [
        "# Null Hypothesis (H₀): There is no association between product satisfaction levels and customer regions.\n",
        "# Alternative Hypothesis (H₁): There is a significant association between product satisfaction levels and customer regions."
      ],
      "metadata": {
        "id": "452j5JKPUbtu"
      },
      "execution_count": null,
      "outputs": []
    },
    {
      "cell_type": "code",
      "source": [
        "import numpy as np\n",
        "from scipy.stats import chi2_contingency\n",
        "\n",
        "\n",
        "#Sample data: Product satisfaction levels (rows) vs. Customer regions (columns)\n",
        "\n",
        "data = np.array([[50, 30, 40, 20], [30, 40, 30, 50], [20, 30, 40, 30]])\n",
        "\n",
        "# Perform Chi-Square test\n",
        "chi2, p, dof, expected = chi2_contingency(data)\n",
        "\n",
        "# Define significance level (alpha)\n",
        "alpha = 0.05\n",
        "\n",
        "# Compare p-value with alpha\n",
        "if p < alpha:\n",
        "    print(\"Reject the null hypothesis. There is a significant association.\")\n",
        "else:\n",
        "    print(\"Fail to reject the null hypothesis. No significant association.\")\n",
        "\n",
        "print(f\"Chi-Square Statistic: {chi2:.4f}\")\n",
        "print(f\"P-value: {p:.4f}\")"
      ],
      "metadata": {
        "colab": {
          "base_uri": "https://localhost:8080/"
        },
        "id": "7YfKiRSkS-qx",
        "outputId": "16d44ac6-1fb1-4699-c049-0148f6504175"
      },
      "execution_count": 22,
      "outputs": [
        {
          "output_type": "stream",
          "name": "stdout",
          "text": [
            "Reject the null hypothesis. There is a significant association.\n",
            "Chi-Square Statistic: 27.7771\n",
            "P-value: 0.0001\n"
          ]
        }
      ]
    },
    {
      "cell_type": "markdown",
      "source": [
        "# 23. A company implemented an employee training program to improve job performance (Effective, Neutral, Ineffective). After the training, they collected data from a sample of employees and classified them based on their job performance before and after the training. Perform a Chi-Square test to determine if there is a significant difference between job performance levels before and after the training."
      ],
      "metadata": {
        "id": "GagPrYcSVDQU"
      }
    },
    {
      "cell_type": "code",
      "source": [
        "# Null Hypothesis (H0): There is no association between job performance levels before and after the training.\n",
        "# Alternative Hypothesis (Ha): There is an association between job performance levels before and after the training."
      ],
      "metadata": {
        "id": "ilvaq0WDX5PQ"
      },
      "execution_count": null,
      "outputs": []
    },
    {
      "cell_type": "code",
      "source": [
        "# Sample data: Job performance levels before (rows) and after (columns) training\n",
        "\n",
        "data = np.array([[50, 30, 20], [30, 40, 30], [20, 30, 40]])\n",
        "\n",
        "# Perform Chi-Square test\n",
        "chi2, p, dof, expected = chi2_contingency(data)\n",
        "\n",
        "# Define significance level (alpha)\n",
        "alpha = 0.05\n",
        "\n",
        "# Compare p-value with alpha\n",
        "if p < alpha:\n",
        "    print(\"Reject the null hypothesis. There is a significant association.\")\n",
        "else:\n",
        "    print(\"Fail to reject the null hypothesis. No significant association.\")\n",
        "\n",
        "# Print results\n",
        "print(\"Chi-Square value:\", chi2)\n",
        "print(\"P-value:\", p)\n",
        "print(\"Degrees of freedom:\", dof)\n",
        "print(\"Expected frequencies:\")\n",
        "print(expected)"
      ],
      "metadata": {
        "colab": {
          "base_uri": "https://localhost:8080/"
        },
        "id": "j4Xoc-phWOJD",
        "outputId": "653a79be-606e-45a6-9b22-efa6b9955bbd"
      },
      "execution_count": 24,
      "outputs": [
        {
          "output_type": "stream",
          "name": "stdout",
          "text": [
            "Reject the null hypothesis. There is a significant association.\n",
            "Chi-Square value: 22.161728395061726\n",
            "P-value: 0.00018609719479882557\n",
            "Degrees of freedom: 4\n",
            "Expected frequencies:\n",
            "[[34.48275862 34.48275862 31.03448276]\n",
            " [34.48275862 34.48275862 31.03448276]\n",
            " [31.03448276 31.03448276 27.93103448]]\n"
          ]
        }
      ]
    },
    {
      "cell_type": "markdown",
      "source": [
        "#  24. A company produces three different versions of a product: Standard, Premium, and Deluxe. The company wants to determine if there is a significant difference in customer satisfaction scores among the three product versions. They conducted a survey and collected customer satisfaction scores for each version from a random sample of customers. Perform an ANOVA test to determine if there is a significant difference in customer satisfaction scores."
      ],
      "metadata": {
        "id": "j3IhdmyMYCkk"
      }
    },
    {
      "cell_type": "code",
      "source": [
        "# The null hypothesis ((H_0)) for ANOVA states that there is no significant difference in means among the groups (product versions),\n",
        "# while the alternative hypothesis ((H_1)) suggests that at least one group mean is different from the others."
      ],
      "metadata": {
        "id": "-Lewk66DbQMW"
      },
      "execution_count": null,
      "outputs": []
    },
    {
      "cell_type": "code",
      "source": [
        " # Sample data: Customer satisfaction scores for each product version\n",
        "\n",
        "standard_scores = [80, 85, 90, 78, 88, 82, 92, 78, 85, 87]\n",
        "\n",
        "premium_scores = [90, 92, 88, 92, 95, 91, 96, 93, 89, 93]\n",
        "\n",
        "deluxe_scores = [95, 98, 92, 97, 96, 94, 98, 97, 92, 99]\n",
        "\n",
        "f_statistic, p_value = stats.f_oneway(standard_scores, premium_scores, deluxe_scores)\n",
        "\n",
        "alpha = 0.05\n",
        "if p_value < alpha:\n",
        "    print(f\"p-value = {p_value:.4f} (Reject the null hypothesis. significant difference)\")\n",
        "else:\n",
        "    print(f\"p-value = {p_value:.4f} (Fail to reject the null hypothesis. no significant difference)\")\n"
      ],
      "metadata": {
        "colab": {
          "base_uri": "https://localhost:8080/"
        },
        "id": "1sS6QAsHahGO",
        "outputId": "67e45c04-b930-4cfd-ff41-aad953c2825a"
      },
      "execution_count": 26,
      "outputs": [
        {
          "output_type": "stream",
          "name": "stdout",
          "text": [
            "p-value = 0.0000 (Reject the null hypothesis. significant difference)\n"
          ]
        }
      ]
    }
  ]
}